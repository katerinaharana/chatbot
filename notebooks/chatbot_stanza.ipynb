{
 "cells": [
  {
   "cell_type": "code",
   "execution_count": 1,
   "id": "28e1c0c1-632d-406f-a4cd-88218c052a41",
   "metadata": {},
   "outputs": [],
   "source": [
    "import stanza\n",
    "import pandas as pd\n",
    "import numpy as np\n",
    "import matplotlib.pyplot as plt\n",
    "import re\n",
    "from collections import defaultdict, Counter\n",
    "from sklearn.cluster import KMeans\n",
    "from sklearn.metrics import silhouette_score\n",
    "from sentence_transformers import SentenceTransformer\n",
    "from nltk.corpus import stopwords"
   ]
  },
  {
   "cell_type": "code",
   "execution_count": 2,
   "id": "2697ff32-9ad3-4941-ae03-61356ef3bee0",
   "metadata": {},
   "outputs": [
    {
     "data": {
      "application/vnd.jupyter.widget-view+json": {
       "model_id": "d3b6b0fb0ee844f28b24e9964924338c",
       "version_major": 2,
       "version_minor": 0
      },
      "text/plain": [
       "Downloading https://raw.githubusercontent.com/stanfordnlp/stanza-resources/main/resources_1.10.0.json:   0%|  …"
      ]
     },
     "metadata": {},
     "output_type": "display_data"
    },
    {
     "name": "stderr",
     "output_type": "stream",
     "text": [
      "2025-04-05 19:05:28 INFO: Downloaded file to C:\\Users\\Katerina\\stanza_resources\\resources.json\n",
      "2025-04-05 19:05:28 INFO: Downloading default packages for language: el (Greek) ...\n",
      "2025-04-05 19:05:29 INFO: File exists: C:\\Users\\Katerina\\stanza_resources\\el\\default.zip\n",
      "2025-04-05 19:05:31 INFO: Finished downloading models and saved to C:\\Users\\Katerina\\stanza_resources\n",
      "2025-04-05 19:05:31 INFO: Checking for updates to resources.json in case models have been updated.  Note: this behavior can be turned off with download_method=None or download_method=DownloadMethod.REUSE_RESOURCES\n"
     ]
    },
    {
     "data": {
      "application/vnd.jupyter.widget-view+json": {
       "model_id": "5b721970158045be9e7005cc5c9a348d",
       "version_major": 2,
       "version_minor": 0
      },
      "text/plain": [
       "Downloading https://raw.githubusercontent.com/stanfordnlp/stanza-resources/main/resources_1.10.0.json:   0%|  …"
      ]
     },
     "metadata": {},
     "output_type": "display_data"
    },
    {
     "name": "stderr",
     "output_type": "stream",
     "text": [
      "2025-04-05 19:05:31 INFO: Downloaded file to C:\\Users\\Katerina\\stanza_resources\\resources.json\n",
      "2025-04-05 19:05:31 WARNING: Language el package default expects mwt, which has been added\n",
      "2025-04-05 19:05:32 INFO: Loading these models for language: el (Greek):\n",
      "============================\n",
      "| Processor | Package      |\n",
      "----------------------------\n",
      "| tokenize  | gdt          |\n",
      "| mwt       | gdt          |\n",
      "| pos       | gdt_nocharlm |\n",
      "| lemma     | gdt_nocharlm |\n",
      "============================\n",
      "\n",
      "2025-04-05 19:05:32 INFO: Using device: cpu\n",
      "2025-04-05 19:05:32 INFO: Loading: tokenize\n",
      "2025-04-05 19:05:32 INFO: Loading: mwt\n",
      "2025-04-05 19:05:32 INFO: Loading: pos\n",
      "2025-04-05 19:05:36 INFO: Loading: lemma\n",
      "2025-04-05 19:05:36 INFO: Done loading processors!\n"
     ]
    }
   ],
   "source": [
    "\n",
    "# 🔹 Download & Load Stanza Greek Model\n",
    "stanza.download('el')\n",
    "nlp_stanza = stanza.Pipeline(lang='el', processors='tokenize,pos,lemma')"
   ]
  },
  {
   "cell_type": "code",
   "execution_count": 3,
   "id": "21389a93-25ec-4650-81e2-a644536ea88b",
   "metadata": {},
   "outputs": [],
   "source": [
    "\n",
    "# 🔹 Define Custom Stopwords BEFORE Stanza Processing\n",
    "custom_stopwords = set([\n",
    "    \"και\", \"να\", \"το\", \"μου\", \"του\", \"της\", \"εγω\", \"ένα\", \"σε\", \"με\", \"για\",\n",
    "    \"θα\", \"απο\", \"αυτό\", \"αυτή\", \"αυτο\", \"ότι\", \"πως\", \"πολύ\", \"εδώ\", \"εκεί\", \"είμαι\",\"ακόμη\", \"αυτές\", \"στο\",\"στις\", \"στους\",\"στα\",\"στο\",\"στη\",\"δικό\", \"δικού\"\n",
    "\"δικός\",'εσάς', 'την', 'τα', \"είναι\",'μια', 'μία','έχει', 'είχαμε', 'είχα', 'έχουμε', 'έχετε','ήθελα','κάνετε', 'κάνει', 'έκανα','κάποιον', 'κάποιο', 'κάποιες','λέω', 'δω', 'μπω', 'πω', 'πείτε','τους', 'σας', 'μας','μπορείτε', 'μπορούσατε', 'μπορούσα', 'μπορεί',\n",
    "'τη', 'τους', 'τo', 'η', 'οι', 'τα', 'το', 'την', 'των', 'τις', 'τον','όλων', 'όλης', 'όλο', 'όλοι', 'όλους','οποίο','ποιους', 'ποια', 'ποιο', 'ποιες','ποιον','πόση','πόσες','πόση', 'πόσα','πόσα','σ',\"σε\"]) \n",
    "\n",
    "\n",
    "custom_word_mapping = {\n",
    "    \"'τηλέφωνό\": \"τηλέφωνο\",\n",
    "    \"τηλέφων\": \"τηλέφωνο\",\n",
    "    \"τηλέφωνό\": \"τηλέφωνο\",\n",
    "    \"τηλεφώνου\": \"τηλέφωνο\",\n",
    "    \"υπολοίπου\": \"υπόλοιπος\",\n",
    "    \"υποβάλω\": \"υπόβάλλω\",\n",
    "    \"υποβολής\" : \"υποβάλλω\",\n",
    "    \"χρωστάω\" : \"χρέος\"\n",
    "}\n"
   ]
  },
  {
   "cell_type": "code",
   "execution_count": 4,
   "id": "80506392-a36e-4b01-953a-564305445ea2",
   "metadata": {},
   "outputs": [],
   "source": [
    "\n",
    "# 🔹 Dictionary to store word mappings (before → after lemmatization)\n",
    "word_mapping = defaultdict(set)"
   ]
  },
  {
   "cell_type": "code",
   "execution_count": 9,
   "id": "010a22b9-9bef-4ca9-8194-9cb734f55776",
   "metadata": {},
   "outputs": [],
   "source": [
    "# ✅ **Preprocessing Function (Removes Stopwords + Applies Manual Remapping)**\n",
    "def preprocess_text(text):\n",
    "    if pd.isnull(text):  # Handle missing values\n",
    "        return \"\"\n",
    "    \n",
    "    # Convert text to lowercase & Remove punctuation\n",
    "    text = text.lower()\n",
    "    text = re.sub(r\"[^\\w\\s]\", \"\", text)  \n",
    "    \n",
    "    # Remove Stopwords before Stanza Processing\n",
    "    words = text.split()  \n",
    "    words = [word for word in words if word not in custom_stopwords]  # Remove stopwords\n",
    "    cleaned_text = \" \".join(words)  # Reconstruct sentence\n",
    "    \n",
    "    #  Pass Cleaned Text to Stanza for Lemmatization\n",
    "    doc = nlp_stanza(cleaned_text)\n",
    "    lemmatized_text = []\n",
    "    \n",
    "    for sentence in doc.sentences:\n",
    "        for word in sentence.words:\n",
    "            original_word = word.text.lower()\n",
    "            lemmatized_word = word.lemma\n",
    "            \n",
    "            # 🔹 **Apply Custom Mapping (if exists)**\n",
    "            if lemmatized_word in custom_word_mapping:\n",
    "                corrected_lemma = custom_word_mapping[lemmatized_word]\n",
    "            else:\n",
    "                corrected_lemma = lemmatized_word  # Keep original lemma\n",
    "\n",
    "            # Store mapping only if the lemma differs from the original word\n",
    "            if original_word != corrected_lemma:\n",
    "                word_mapping[corrected_lemma].add(original_word)\n",
    "\n",
    "            lemmatized_text.append(corrected_lemma)\n",
    "\n",
    "    return \" \".join(lemmatized_text)"
   ]
  },
  {
   "cell_type": "code",
   "execution_count": 11,
   "id": "6b2e7929-4794-40b4-9d96-42e0b9fe7148",
   "metadata": {},
   "outputs": [],
   "source": [
    "# 🔹 Load the dataset\n",
    "df = pd.read_csv(\"C:/Users/Katerina/Documents/Chatbot/Customer Utterances.csv\")  \n",
    "df[\"lemmatized_queries\"] = df[\"Utterance\"].apply(preprocess_text)  "
   ]
  },
  {
   "cell_type": "code",
   "execution_count": 12,
   "id": "6ce71d9c-3054-4853-a866-4836ea2ec099",
   "metadata": {},
   "outputs": [],
   "source": [
    "\n",
    "\n",
    "# 🔹 Convert word mappings dictionary to a DataFrame\n",
    "word_mapping_df = pd.DataFrame([(lemma, list(words)) for lemma, words in word_mapping.items()], \n",
    "                               columns=[\"Lemmatized_Word\", \"Original_Words\"])"
   ]
  },
  {
   "cell_type": "code",
   "execution_count": 13,
   "id": "fd6557fe-bbe2-4cf5-b724-01d13e067880",
   "metadata": {},
   "outputs": [
    {
     "data": {
      "application/vnd.jupyter.widget-view+json": {
       "model_id": "b0caf96a89924447bb53492477dadec1",
       "version_major": 2,
       "version_minor": 0
      },
      "text/plain": [
       "modules.json:   0%|          | 0.00/229 [00:00<?, ?B/s]"
      ]
     },
     "metadata": {},
     "output_type": "display_data"
    },
    {
     "name": "stderr",
     "output_type": "stream",
     "text": [
      "C:\\Users\\Katerina\\anaconda3\\Lib\\site-packages\\huggingface_hub\\file_download.py:140: UserWarning: `huggingface_hub` cache-system uses symlinks by default to efficiently store duplicated files but your machine does not support them in C:\\Users\\Katerina\\.cache\\huggingface\\hub\\models--sentence-transformers--paraphrase-MiniLM-L6-v2. Caching files will still work but in a degraded version that might require more space on your disk. This warning can be disabled by setting the `HF_HUB_DISABLE_SYMLINKS_WARNING` environment variable. For more details, see https://huggingface.co/docs/huggingface_hub/how-to-cache#limitations.\n",
      "To support symlinks on Windows, you either need to activate Developer Mode or to run Python as an administrator. In order to activate developer mode, see this article: https://docs.microsoft.com/en-us/windows/apps/get-started/enable-your-device-for-development\n",
      "  warnings.warn(message)\n"
     ]
    },
    {
     "data": {
      "application/vnd.jupyter.widget-view+json": {
       "model_id": "8045f7e448c04317834f87dee91b667e",
       "version_major": 2,
       "version_minor": 0
      },
      "text/plain": [
       "config_sentence_transformers.json:   0%|          | 0.00/122 [00:00<?, ?B/s]"
      ]
     },
     "metadata": {},
     "output_type": "display_data"
    },
    {
     "data": {
      "application/vnd.jupyter.widget-view+json": {
       "model_id": "d3e47ca00a9c4179bc48db590cd7ba29",
       "version_major": 2,
       "version_minor": 0
      },
      "text/plain": [
       "README.md:   0%|          | 0.00/3.51k [00:00<?, ?B/s]"
      ]
     },
     "metadata": {},
     "output_type": "display_data"
    },
    {
     "data": {
      "application/vnd.jupyter.widget-view+json": {
       "model_id": "99cded5c27984d42bed9d9225a7af62e",
       "version_major": 2,
       "version_minor": 0
      },
      "text/plain": [
       "sentence_bert_config.json:   0%|          | 0.00/53.0 [00:00<?, ?B/s]"
      ]
     },
     "metadata": {},
     "output_type": "display_data"
    },
    {
     "data": {
      "application/vnd.jupyter.widget-view+json": {
       "model_id": "1d11dcbbda134f85a90268324d611424",
       "version_major": 2,
       "version_minor": 0
      },
      "text/plain": [
       "config.json:   0%|          | 0.00/629 [00:00<?, ?B/s]"
      ]
     },
     "metadata": {},
     "output_type": "display_data"
    },
    {
     "data": {
      "application/vnd.jupyter.widget-view+json": {
       "model_id": "af76c1c539044799bbd05bf5847189bb",
       "version_major": 2,
       "version_minor": 0
      },
      "text/plain": [
       "model.safetensors:   0%|          | 0.00/90.9M [00:00<?, ?B/s]"
      ]
     },
     "metadata": {},
     "output_type": "display_data"
    },
    {
     "data": {
      "application/vnd.jupyter.widget-view+json": {
       "model_id": "2ad40b5724bf4028ab0d97ee55ead97b",
       "version_major": 2,
       "version_minor": 0
      },
      "text/plain": [
       "tokenizer_config.json:   0%|          | 0.00/314 [00:00<?, ?B/s]"
      ]
     },
     "metadata": {},
     "output_type": "display_data"
    },
    {
     "data": {
      "application/vnd.jupyter.widget-view+json": {
       "model_id": "089abdd5f30149518b6bbeca2cb5002a",
       "version_major": 2,
       "version_minor": 0
      },
      "text/plain": [
       "vocab.txt:   0%|          | 0.00/232k [00:00<?, ?B/s]"
      ]
     },
     "metadata": {},
     "output_type": "display_data"
    },
    {
     "data": {
      "application/vnd.jupyter.widget-view+json": {
       "model_id": "6a2246957a3c4624946244897fa46ad9",
       "version_major": 2,
       "version_minor": 0
      },
      "text/plain": [
       "tokenizer.json:   0%|          | 0.00/466k [00:00<?, ?B/s]"
      ]
     },
     "metadata": {},
     "output_type": "display_data"
    },
    {
     "data": {
      "application/vnd.jupyter.widget-view+json": {
       "model_id": "573e3b0adb6b4a0bad00a0985a948e25",
       "version_major": 2,
       "version_minor": 0
      },
      "text/plain": [
       "special_tokens_map.json:   0%|          | 0.00/112 [00:00<?, ?B/s]"
      ]
     },
     "metadata": {},
     "output_type": "display_data"
    },
    {
     "data": {
      "application/vnd.jupyter.widget-view+json": {
       "model_id": "7be2f61aee634962a26800aacf34f5e8",
       "version_major": 2,
       "version_minor": 0
      },
      "text/plain": [
       "config.json:   0%|          | 0.00/190 [00:00<?, ?B/s]"
      ]
     },
     "metadata": {},
     "output_type": "display_data"
    }
   ],
   "source": [
    "\n",
    "#  Sentence Embeddings with Sentence-BERT\n",
    "model = SentenceTransformer(\"paraphrase-MiniLM-L6-v2\")\n",
    "embeddings = model.encode(df[\"lemmatized_queries\"].tolist())"
   ]
  },
  {
   "cell_type": "code",
   "execution_count": 17,
   "id": "9066a9c4-5d8c-40ad-99de-3d6388137df9",
   "metadata": {},
   "outputs": [
    {
     "name": "stderr",
     "output_type": "stream",
     "text": [
      "C:\\Users\\Katerina\\anaconda3\\Lib\\site-packages\\sklearn\\cluster\\_kmeans.py:1429: UserWarning: KMeans is known to have a memory leak on Windows with MKL, when there are less chunks than available threads. You can avoid it by setting the environment variable OMP_NUM_THREADS=3.\n",
      "  warnings.warn(\n",
      "C:\\Users\\Katerina\\anaconda3\\Lib\\site-packages\\sklearn\\cluster\\_kmeans.py:1429: UserWarning: KMeans is known to have a memory leak on Windows with MKL, when there are less chunks than available threads. You can avoid it by setting the environment variable OMP_NUM_THREADS=3.\n",
      "  warnings.warn(\n",
      "C:\\Users\\Katerina\\anaconda3\\Lib\\site-packages\\sklearn\\cluster\\_kmeans.py:1429: UserWarning: KMeans is known to have a memory leak on Windows with MKL, when there are less chunks than available threads. You can avoid it by setting the environment variable OMP_NUM_THREADS=3.\n",
      "  warnings.warn(\n",
      "C:\\Users\\Katerina\\anaconda3\\Lib\\site-packages\\sklearn\\cluster\\_kmeans.py:1429: UserWarning: KMeans is known to have a memory leak on Windows with MKL, when there are less chunks than available threads. You can avoid it by setting the environment variable OMP_NUM_THREADS=3.\n",
      "  warnings.warn(\n",
      "C:\\Users\\Katerina\\anaconda3\\Lib\\site-packages\\sklearn\\cluster\\_kmeans.py:1429: UserWarning: KMeans is known to have a memory leak on Windows with MKL, when there are less chunks than available threads. You can avoid it by setting the environment variable OMP_NUM_THREADS=3.\n",
      "  warnings.warn(\n",
      "C:\\Users\\Katerina\\anaconda3\\Lib\\site-packages\\sklearn\\cluster\\_kmeans.py:1429: UserWarning: KMeans is known to have a memory leak on Windows with MKL, when there are less chunks than available threads. You can avoid it by setting the environment variable OMP_NUM_THREADS=3.\n",
      "  warnings.warn(\n",
      "C:\\Users\\Katerina\\anaconda3\\Lib\\site-packages\\sklearn\\cluster\\_kmeans.py:1429: UserWarning: KMeans is known to have a memory leak on Windows with MKL, when there are less chunks than available threads. You can avoid it by setting the environment variable OMP_NUM_THREADS=3.\n",
      "  warnings.warn(\n",
      "C:\\Users\\Katerina\\anaconda3\\Lib\\site-packages\\sklearn\\cluster\\_kmeans.py:1429: UserWarning: KMeans is known to have a memory leak on Windows with MKL, when there are less chunks than available threads. You can avoid it by setting the environment variable OMP_NUM_THREADS=3.\n",
      "  warnings.warn(\n",
      "C:\\Users\\Katerina\\anaconda3\\Lib\\site-packages\\sklearn\\cluster\\_kmeans.py:1429: UserWarning: KMeans is known to have a memory leak on Windows with MKL, when there are less chunks than available threads. You can avoid it by setting the environment variable OMP_NUM_THREADS=3.\n",
      "  warnings.warn(\n",
      "C:\\Users\\Katerina\\anaconda3\\Lib\\site-packages\\sklearn\\cluster\\_kmeans.py:1429: UserWarning: KMeans is known to have a memory leak on Windows with MKL, when there are less chunks than available threads. You can avoid it by setting the environment variable OMP_NUM_THREADS=3.\n",
      "  warnings.warn(\n",
      "C:\\Users\\Katerina\\anaconda3\\Lib\\site-packages\\sklearn\\cluster\\_kmeans.py:1429: UserWarning: KMeans is known to have a memory leak on Windows with MKL, when there are less chunks than available threads. You can avoid it by setting the environment variable OMP_NUM_THREADS=3.\n",
      "  warnings.warn(\n",
      "C:\\Users\\Katerina\\anaconda3\\Lib\\site-packages\\sklearn\\cluster\\_kmeans.py:1429: UserWarning: KMeans is known to have a memory leak on Windows with MKL, when there are less chunks than available threads. You can avoid it by setting the environment variable OMP_NUM_THREADS=3.\n",
      "  warnings.warn(\n",
      "C:\\Users\\Katerina\\anaconda3\\Lib\\site-packages\\sklearn\\cluster\\_kmeans.py:1429: UserWarning: KMeans is known to have a memory leak on Windows with MKL, when there are less chunks than available threads. You can avoid it by setting the environment variable OMP_NUM_THREADS=3.\n",
      "  warnings.warn(\n",
      "C:\\Users\\Katerina\\anaconda3\\Lib\\site-packages\\sklearn\\cluster\\_kmeans.py:1429: UserWarning: KMeans is known to have a memory leak on Windows with MKL, when there are less chunks than available threads. You can avoid it by setting the environment variable OMP_NUM_THREADS=3.\n",
      "  warnings.warn(\n"
     ]
    },
    {
     "data": {
      "image/png": "[encoded data removed]",
      "text/plain": [
       "<Figure size 800x500 with 1 Axes>"
      ]
     },
     "metadata": {},
     "output_type": "display_data"
    },
    {
     "data": {
      "image/png": "[encoded data removed]",
      "text/plain": [
       "<Figure size 800x500 with 1 Axes>"
      ]
     },
     "metadata": {},
     "output_type": "display_data"
    }
   ],
   "source": [
    "\n",
    "#  K-Means Clustering\n",
    "def optimal_clusters(embeddings, max_clusters=15):\n",
    "    distortions = []\n",
    "    silhouette_scores = []\n",
    "    cluster_range = range(2, max_clusters+1)\n",
    "\n",
    "    for k in cluster_range:\n",
    "        kmeans = KMeans(n_clusters=k, random_state=42, n_init=10)\n",
    "        kmeans.fit(embeddings)\n",
    "        \n",
    "        # Calculate Elbow Method distortion score\n",
    "        distortions.append(kmeans.inertia_)\n",
    "\n",
    "        # Calculate Silhouette Score\n",
    "        silhouette_avg = silhouette_score(embeddings, kmeans.labels_)\n",
    "        silhouette_scores.append(silhouette_avg)\n",
    "\n",
    "    return cluster_range, distortions, silhouette_scores\n",
    "\n",
    "# Find the optimal number of clusters using Elbow & Silhouette methods\n",
    "cluster_range, distortions, silhouette_scores = optimal_clusters(embeddings)\n",
    "\n",
    "#  Plot Elbow Method\n",
    "plt.figure(figsize=(8, 5))\n",
    "plt.plot(cluster_range, distortions, marker=\"o\", linestyle=\"-\")\n",
    "plt.xlabel(\"Number of Clusters\")\n",
    "plt.ylabel(\"Distortion (Inertia)\")\n",
    "plt.title(\"Elbow Method for Optimal Clusters\")\n",
    "plt.show()\n",
    "\n",
    "#  Plot Silhouette Score\n",
    "plt.figure(figsize=(8, 5))\n",
    "plt.plot(cluster_range, silhouette_scores, marker=\"o\", linestyle=\"-\", color=\"red\")\n",
    "plt.xlabel(\"Number of Clusters\")\n",
    "plt.ylabel(\"Silhouette Score\")\n",
    "plt.title(\"Silhouette Score Analysis\")\n",
    "plt.show()"
   ]
  },
  {
   "cell_type": "code",
   "execution_count": 19,
   "id": "f7a6772b-ea5b-44d1-bb15-c32c12b9222a",
   "metadata": {},
   "outputs": [
    {
     "name": "stderr",
     "output_type": "stream",
     "text": [
      "C:\\Users\\Katerina\\anaconda3\\Lib\\site-packages\\sklearn\\cluster\\_kmeans.py:1429: UserWarning: KMeans is known to have a memory leak on Windows with MKL, when there are less chunks than available threads. You can avoid it by setting the environment variable OMP_NUM_THREADS=3.\n",
      "  warnings.warn(\n"
     ]
    }
   ],
   "source": [
    "\n",
    "#  Perform final K-Means clustering using the best number of clusters\n",
    "optimal_k = 7 #cluster_range[silhouette_scores.index(max(silhouette_scores))]  # Best cluster count\n",
    "final_kmeans = KMeans(n_clusters=optimal_k, random_state=42, n_init=10)\n",
    "df[\"Cluster\"] = final_kmeans.fit_predict(embeddings)\n",
    "\n",
    "#  Function to Predict Cluster for New Input\n",
    "def predict_cluster(user_input):\n",
    "    processed_input = preprocess_text(user_input)\n",
    "    input_embedding = model.encode([processed_input])\n",
    "    cluster = final_kmeans.predict(input_embedding)[0]\n",
    "    print(f\"🔹 The input belongs to Cluster {cluster}\")\n",
    "    return cluster"
   ]
  },
  {
   "cell_type": "code",
   "execution_count": 21,
   "id": "bf3726d6-8b88-4ad4-b370-0e96cb6e3ff8",
   "metadata": {},
   "outputs": [],
   "source": [
    "\n",
    "# Function to Find Top 5 Most Frequent Words in Each Cluster\n",
    "def get_top_words_per_cluster():\n",
    "    cluster_word_counts = defaultdict(Counter)\n",
    "\n",
    "    for _, row in df.iterrows():\n",
    "        words = row[\"lemmatized_queries\"].split()\n",
    "        cluster_word_counts[row[\"Cluster\"]].update(words)\n",
    "\n",
    "    top_words = {cluster: word_counts.most_common(5) for cluster, word_counts in cluster_word_counts.items()}\n",
    "    \n",
    "    # Convert to DataFrame for better visualization\n",
    "    top_words_df = pd.DataFrame([\n",
    "        {\"Cluster\": cluster, \"Top_Words\": [word for word, _ in words]} for cluster, words in top_words.items()\n",
    "    ])\n",
    "    \n",
    "    return top_words_df"
   ]
  },
  {
   "cell_type": "code",
   "execution_count": 23,
   "id": "644055ec-e0fc-4074-b588-ff05e156f803",
   "metadata": {},
   "outputs": [],
   "source": [
    "\n",
    "# 🔹 Save processed data and mappings\n",
    "df.to_csv(\"lemmatized_queries_with_clusters.csv\", index=False)\n",
    "word_mapping_df.to_csv(\"lemmatization_mapping_stanza.csv\", index=False)\n",
    "top_words_df = get_top_words_per_cluster()\n",
    "top_words_df.to_csv(\"top_words_per_cluster.csv\", index=False)"
   ]
  },
  {
   "cell_type": "code",
   "execution_count": 25,
   "id": "e83a4ec3-d63a-4f10-9af2-73af380835b6",
   "metadata": {},
   "outputs": [
    {
     "data": {
      "text/html": [
       "<div>\n",
       "<style scoped>\n",
       "    .dataframe tbody tr th:only-of-type {\n",
       "        vertical-align: middle;\n",
       "    }\n",
       "\n",
       "    .dataframe tbody tr th {\n",
       "        vertical-align: top;\n",
       "    }\n",
       "\n",
       "    .dataframe thead th {\n",
       "        text-align: right;\n",
       "    }\n",
       "</style>\n",
       "<table border=\"1\" class=\"dataframe\">\n",
       "  <thead>\n",
       "    <tr style=\"text-align: right;\">\n",
       "      <th></th>\n",
       "      <th>Lemmatized_Word</th>\n",
       "      <th>Original_Words</th>\n",
       "    </tr>\n",
       "  </thead>\n",
       "  <tbody>\n",
       "    <tr>\n",
       "      <th>0</th>\n",
       "      <td>πάσος</td>\n",
       "      <td>[πάσο]</td>\n",
       "    </tr>\n",
       "    <tr>\n",
       "      <th>1</th>\n",
       "      <td>βάγω</td>\n",
       "      <td>[βάλω]</td>\n",
       "    </tr>\n",
       "    <tr>\n",
       "      <th>2</th>\n",
       "      <td>φοιτητικός</td>\n",
       "      <td>[φοιτητικά, φοιτητικό]</td>\n",
       "    </tr>\n",
       "    <tr>\n",
       "      <th>3</th>\n",
       "      <td>διακανονισμός</td>\n",
       "      <td>[διακανονισμό, διακανονισμού, διακανονισμούς]</td>\n",
       "    </tr>\n",
       "    <tr>\n",
       "      <th>4</th>\n",
       "      <td>ληξιπρόθεσμος</td>\n",
       "      <td>[ληξιπρόθεσμο]</td>\n",
       "    </tr>\n",
       "    <tr>\n",
       "      <th>...</th>\n",
       "      <td>...</td>\n",
       "      <td>...</td>\n",
       "    </tr>\n",
       "    <tr>\n",
       "      <th>163</th>\n",
       "      <td>εισερχομένος</td>\n",
       "      <td>[εισερχομένων]</td>\n",
       "    </tr>\n",
       "    <tr>\n",
       "      <th>164</th>\n",
       "      <td>βγίσκω</td>\n",
       "      <td>[βγήκε]</td>\n",
       "    </tr>\n",
       "    <tr>\n",
       "      <th>165</th>\n",
       "      <td>άμεσος</td>\n",
       "      <td>[άμεση]</td>\n",
       "    </tr>\n",
       "    <tr>\n",
       "      <th>166</th>\n",
       "      <td>συνάδελφος</td>\n",
       "      <td>[συνάδελφό]</td>\n",
       "    </tr>\n",
       "    <tr>\n",
       "      <th>167</th>\n",
       "      <td>έρχομαι</td>\n",
       "      <td>[έρθει]</td>\n",
       "    </tr>\n",
       "  </tbody>\n",
       "</table>\n",
       "<p>168 rows × 2 columns</p>\n",
       "</div>"
      ],
      "text/plain": [
       "    Lemmatized_Word                                 Original_Words\n",
       "0             πάσος                                         [πάσο]\n",
       "1              βάγω                                         [βάλω]\n",
       "2        φοιτητικός                         [φοιτητικά, φοιτητικό]\n",
       "3     διακανονισμός  [διακανονισμό, διακανονισμού, διακανονισμούς]\n",
       "4     ληξιπρόθεσμος                                 [ληξιπρόθεσμο]\n",
       "..              ...                                            ...\n",
       "163    εισερχομένος                                 [εισερχομένων]\n",
       "164          βγίσκω                                        [βγήκε]\n",
       "165          άμεσος                                        [άμεση]\n",
       "166      συνάδελφος                                    [συνάδελφό]\n",
       "167         έρχομαι                                        [έρθει]\n",
       "\n",
       "[168 rows x 2 columns]"
      ]
     },
     "metadata": {},
     "output_type": "display_data"
    }
   ],
   "source": [
    "\n",
    "# 🔹 Display the mapping DataFrame\n",
    "display(word_mapping_df)\n"
   ]
  },
  {
   "cell_type": "code",
   "execution_count": 27,
   "id": "8e418be1-0581-4e62-9b94-454d82210b1b",
   "metadata": {},
   "outputs": [
    {
     "data": {
      "text/html": [
       "<div>\n",
       "<style scoped>\n",
       "    .dataframe tbody tr th:only-of-type {\n",
       "        vertical-align: middle;\n",
       "    }\n",
       "\n",
       "    .dataframe tbody tr th {\n",
       "        vertical-align: top;\n",
       "    }\n",
       "\n",
       "    .dataframe thead th {\n",
       "        text-align: right;\n",
       "    }\n",
       "</style>\n",
       "<table border=\"1\" class=\"dataframe\">\n",
       "  <thead>\n",
       "    <tr style=\"text-align: right;\">\n",
       "      <th></th>\n",
       "      <th>Cluster</th>\n",
       "      <th>Top_Words</th>\n",
       "    </tr>\n",
       "  </thead>\n",
       "  <tbody>\n",
       "    <tr>\n",
       "      <th>0</th>\n",
       "      <td>6</td>\n",
       "      <td>[μπορώ, πώς, πού, που, κάνω]</td>\n",
       "    </tr>\n",
       "    <tr>\n",
       "      <th>1</th>\n",
       "      <td>4</td>\n",
       "      <td>[θέλω, λογαριασμός, κάνω, επιθυμώ, ομιλία]</td>\n",
       "    </tr>\n",
       "    <tr>\n",
       "      <th>2</th>\n",
       "      <td>1</td>\n",
       "      <td>[λογαριασμός, έχω, ραντέβος, βοήθεια, υπηρεσία]</td>\n",
       "    </tr>\n",
       "    <tr>\n",
       "      <th>3</th>\n",
       "      <td>3</td>\n",
       "      <td>[tablet, νέος, αγοράζω, τιμή, αγορά]</td>\n",
       "    </tr>\n",
       "    <tr>\n",
       "      <th>4</th>\n",
       "      <td>2</td>\n",
       "      <td>[θέλω, λογαριασμός, κάνω, γίνομαι, διακανονισμός]</td>\n",
       "    </tr>\n",
       "    <tr>\n",
       "      <th>5</th>\n",
       "      <td>5</td>\n",
       "      <td>[tethering, πώς, κάνω, δε, δουλεύω]</td>\n",
       "    </tr>\n",
       "    <tr>\n",
       "      <th>6</th>\n",
       "      <td>0</td>\n",
       "      <td>[hotspot, πώς, κάνω, δε, κινητό]</td>\n",
       "    </tr>\n",
       "  </tbody>\n",
       "</table>\n",
       "</div>"
      ],
      "text/plain": [
       "   Cluster                                          Top_Words\n",
       "0        6                       [μπορώ, πώς, πού, που, κάνω]\n",
       "1        4         [θέλω, λογαριασμός, κάνω, επιθυμώ, ομιλία]\n",
       "2        1    [λογαριασμός, έχω, ραντέβος, βοήθεια, υπηρεσία]\n",
       "3        3               [tablet, νέος, αγοράζω, τιμή, αγορά]\n",
       "4        2  [θέλω, λογαριασμός, κάνω, γίνομαι, διακανονισμός]\n",
       "5        5                [tethering, πώς, κάνω, δε, δουλεύω]\n",
       "6        0                   [hotspot, πώς, κάνω, δε, κινητό]"
      ]
     },
     "metadata": {},
     "output_type": "display_data"
    }
   ],
   "source": [
    "display(top_words_df)"
   ]
  },
  {
   "cell_type": "code",
   "execution_count": 29,
   "id": "4d623b4e-dd2c-4650-bd8d-c102850a411a",
   "metadata": {},
   "outputs": [
    {
     "data": {
      "text/html": [
       "<div>\n",
       "<style scoped>\n",
       "    .dataframe tbody tr th:only-of-type {\n",
       "        vertical-align: middle;\n",
       "    }\n",
       "\n",
       "    .dataframe tbody tr th {\n",
       "        vertical-align: top;\n",
       "    }\n",
       "\n",
       "    .dataframe thead th {\n",
       "        text-align: right;\n",
       "    }\n",
       "</style>\n",
       "<table border=\"1\" class=\"dataframe\">\n",
       "  <thead>\n",
       "    <tr style=\"text-align: right;\">\n",
       "      <th></th>\n",
       "      <th>Utterance</th>\n",
       "      <th>Cluster</th>\n",
       "      <th>lemmatized_queries</th>\n",
       "    </tr>\n",
       "  </thead>\n",
       "  <tbody>\n",
       "    <tr>\n",
       "      <th>0</th>\n",
       "      <td>πρέπει να έχω πάσο για να βάλω φοιτητικό</td>\n",
       "      <td>6</td>\n",
       "      <td>πρέπει έχω πάσος βάγω φοιτητικός</td>\n",
       "    </tr>\n",
       "    <tr>\n",
       "      <th>1</th>\n",
       "      <td>θα ήθελα να κάνω διακανονισμό σε όλο το ληξιπρ...</td>\n",
       "      <td>4</td>\n",
       "      <td>κάνω διακανονισμός ληξιπρόθεσμος</td>\n",
       "    </tr>\n",
       "    <tr>\n",
       "      <th>2</th>\n",
       "      <td>θέλω χρόνο για να μιλάω</td>\n",
       "      <td>4</td>\n",
       "      <td>θέλω χρόνος μιλάω</td>\n",
       "    </tr>\n",
       "    <tr>\n",
       "      <th>3</th>\n",
       "      <td>χρειάζομαι ανανέωση</td>\n",
       "      <td>1</td>\n",
       "      <td>χρειάζομαι ανανέωση</td>\n",
       "    </tr>\n",
       "    <tr>\n",
       "      <th>4</th>\n",
       "      <td>τo παραστατικό του σταθερού μου</td>\n",
       "      <td>6</td>\n",
       "      <td>παράστατικός σταθερός</td>\n",
       "    </tr>\n",
       "  </tbody>\n",
       "</table>\n",
       "</div>"
      ],
      "text/plain": [
       "                                           Utterance  Cluster  \\\n",
       "0           πρέπει να έχω πάσο για να βάλω φοιτητικό        6   \n",
       "1  θα ήθελα να κάνω διακανονισμό σε όλο το ληξιπρ...        4   \n",
       "2                            θέλω χρόνο για να μιλάω        4   \n",
       "3                                χρειάζομαι ανανέωση        1   \n",
       "4                    τo παραστατικό του σταθερού μου        6   \n",
       "\n",
       "                 lemmatized_queries  \n",
       "0  πρέπει έχω πάσος βάγω φοιτητικός  \n",
       "1  κάνω διακανονισμός ληξιπρόθεσμος  \n",
       "2                 θέλω χρόνος μιλάω  \n",
       "3               χρειάζομαι ανανέωση  \n",
       "4             παράστατικός σταθερός  "
      ]
     },
     "execution_count": 29,
     "metadata": {},
     "output_type": "execute_result"
    }
   ],
   "source": [
    "\n",
    "# 🔹 Show processed DataFrame\n",
    "df.head()\n",
    "\n"
   ]
  },
  {
   "cell_type": "code",
   "execution_count": 31,
   "id": "fdfa0504-d10e-4e4b-8bcb-8984f3a45bb9",
   "metadata": {},
   "outputs": [
    {
     "name": "stdin",
     "output_type": "stream",
     "text": [
      "\n",
      "💬 Enter your query (or type 'exit' to quit):  exit\n"
     ]
    },
    {
     "name": "stdout",
     "output_type": "stream",
     "text": [
      "👋 Exiting... Have a great day!\n"
     ]
    }
   ],
   "source": [
    "# **Simple CLI for Testing**\n",
    "if __name__ == \"__main__\":\n",
    "    while True:\n",
    "        query = input(\"\\n💬 Enter your query (or type 'exit' to quit): \")\n",
    "        if query.lower() == 'exit':\n",
    "            print(\"👋 Exiting... Have a great day!\")\n",
    "            break\n",
    "        intent = predict_intent(query)\n",
    "        print(f\"🔹 Predicted Intent: {intent}\")"
   ]
  },
  {
   "cell_type": "code",
   "execution_count": null,
   "id": "d932f3cd-1a8a-41be-a8bc-e30b35f9e9fe",
   "metadata": {},
   "outputs": [],
   "source": []
  },
  {
   "cell_type": "code",
   "execution_count": null,
   "id": "84ca7913-cd48-4b25-9fd6-6d2e900995c3",
   "metadata": {},
   "outputs": [],
   "source": []
  }
 ],
 "metadata": {
  "kernelspec": {
   "display_name": "Python [conda env:base] *",
   "language": "python",
   "name": "conda-base-py"
  },
  "language_info": {
   "codemirror_mode": {
    "name": "ipython",
    "version": 3
   },
   "file_extension": ".py",
   "mimetype": "text/x-python",
   "name": "python",
   "nbconvert_exporter": "python",
   "pygments_lexer": "ipython3",
   "version": "3.12.7"
  }
 },
 "nbformat": 4,
 "nbformat_minor": 5
}
