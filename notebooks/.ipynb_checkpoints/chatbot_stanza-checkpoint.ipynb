{
 "cells": [
  {
   "cell_type": "code",
   "execution_count": null,
   "id": "0",
   "metadata": {},
   "outputs": [],
   "source": [
    "import stanza\n",
    "import pandas as pd\n",
    "import numpy as np\n",
    "import matplotlib.pyplot as plt\n",
    "import re\n",
    "from collections import defaultdict, Counter\n",
    "from sklearn.cluster import KMeans\n",
    "from sklearn.metrics import silhouette_score\n",
    "from sentence_transformers import SentenceTransformer\n",
    "from nltk.corpus import stopwords"
   ]
  },
  {
   "cell_type": "code",
   "execution_count": null,
   "id": "1",
   "metadata": {},
   "outputs": [],
   "source": [
    "\n",
    "# 🔹 Download & Load Stanza Greek Model\n",
    "stanza.download('el')\n",
    "nlp_stanza = stanza.Pipeline(lang='el', processors='tokenize,pos,lemma')"
   ]
  },
  {
   "cell_type": "code",
   "execution_count": null,
   "id": "2",
   "metadata": {},
   "outputs": [],
   "source": [
    "\n",
    "# 🔹 Define Custom Stopwords BEFORE Stanza Processing\n",
    "custom_stopwords = set([\n",
    "    \"και\", \"να\", \"το\", \"μου\", \"του\", \"της\", \"εγω\", \"ένα\", \"σε\", \"με\", \"για\",\n",
    "    \"θα\", \"απο\", \"αυτό\", \"αυτή\", \"αυτο\", \"ότι\", \"πως\", \"πολύ\", \"εδώ\", \"εκεί\", \"είμαι\",\"ακόμη\", \"αυτές\", \"στο\",\"στις\", \"στους\",\"στα\",\"στο\",\"στη\",\"δικό\", \"δικού\"\n",
    "\"δικός\",'εσάς', 'την', 'τα', \"είναι\",'μια', 'μία','έχει', 'είχαμε', 'είχα', 'έχουμε', 'έχετε','ήθελα','κάνετε', 'κάνει', 'έκανα','κάποιον', 'κάποιο', 'κάποιες','λέω', 'δω', 'μπω', 'πω', 'πείτε','τους', 'σας', 'μας','μπορείτε', 'μπορούσατε', 'μπορούσα', 'μπορεί',\n",
    "'τη', 'τους', 'τo', 'η', 'οι', 'τα', 'το', 'την', 'των', 'τις', 'τον','όλων', 'όλης', 'όλο', 'όλοι', 'όλους','οποίο','ποιους', 'ποια', 'ποιο', 'ποιες','ποιον','πόση','πόσες','πόση', 'πόσα','πόσα','σ',\"σε\"]) \n",
    "\n",
    "\n",
    "custom_word_mapping = {\n",
    "    \"'τηλέφωνό\": \"τηλέφωνο\",\n",
    "    \"τηλέφων\": \"τηλέφωνο\",\n",
    "    \"τηλέφωνό\": \"τηλέφωνο\",\n",
    "    \"τηλεφώνου\": \"τηλέφωνο\",\n",
    "    \"υπολοίπου\": \"υπόλοιπος\",\n",
    "    \"υποβάλω\": \"υπόβάλλω\",\n",
    "    \"υποβολής\" : \"υποβάλλω\",\n",
    "    \"χρωστάω\" : \"χρέος\"\n",
    "}\n"
   ]
  },
  {
   "cell_type": "code",
   "execution_count": null,
   "id": "3",
   "metadata": {},
   "outputs": [],
   "source": [
    "\n",
    "# 🔹 Dictionary to store word mappings (before → after lemmatization)\n",
    "word_mapping = defaultdict(set)"
   ]
  },
  {
   "cell_type": "code",
   "execution_count": null,
   "id": "4",
   "metadata": {},
   "outputs": [],
   "source": [
    "# ✅ **Preprocessing Function (Removes Stopwords + Applies Manual Remapping)**\n",
    "def preprocess_text(text):\n",
    "    if pd.isnull(text):  # Handle missing values\n",
    "        return \"\"\n",
    "    \n",
    "    # Convert text to lowercase & Remove punctuation\n",
    "    text = text.lower()\n",
    "    text = re.sub(r\"[^\\w\\s]\", \"\", text)  \n",
    "    \n",
    "    # Remove Stopwords before Stanza Processing\n",
    "    words = text.split()  \n",
    "    words = [word for word in words if word not in custom_stopwords]  # Remove stopwords\n",
    "    cleaned_text = \" \".join(words)  # Reconstruct sentence\n",
    "    \n",
    "    #  Pass Cleaned Text to Stanza for Lemmatization\n",
    "    doc = nlp_stanza(cleaned_text)\n",
    "    lemmatized_text = []\n",
    "    \n",
    "    for sentence in doc.sentences:\n",
    "        for word in sentence.words:\n",
    "            original_word = word.text.lower()\n",
    "            lemmatized_word = word.lemma\n",
    "            \n",
    "            # 🔹 **Apply Custom Mapping (if exists)**\n",
    "            if lemmatized_word in custom_word_mapping:\n",
    "                corrected_lemma = custom_word_mapping[lemmatized_word]\n",
    "            else:\n",
    "                corrected_lemma = lemmatized_word  # Keep original lemma\n",
    "\n",
    "            # Store mapping only if the lemma differs from the original word\n",
    "            if original_word != corrected_lemma:\n",
    "                word_mapping[corrected_lemma].add(original_word)\n",
    "\n",
    "            lemmatized_text.append(corrected_lemma)\n",
    "\n",
    "    return \" \".join(lemmatized_text)"
   ]
  },
  {
   "cell_type": "code",
   "execution_count": null,
   "id": "5",
   "metadata": {},
   "outputs": [],
   "source": [
    "# 🔹 Load the dataset\n",
    "df = pd.read_csv(\"C:/Users/Katerina/Documents/Chatbot/data/Customer Utterances.csv\")  \n",
    "df[\"lemmatized_queries\"] = df[\"Utterance\"].apply(preprocess_text)  "
   ]
  },
  {
   "cell_type": "code",
   "execution_count": null,
   "id": "6",
   "metadata": {},
   "outputs": [],
   "source": [
    "\n",
    "\n",
    "# 🔹 Convert word mappings dictionary to a DataFrame\n",
    "word_mapping_df = pd.DataFrame([(lemma, list(words)) for lemma, words in word_mapping.items()], \n",
    "                               columns=[\"Lemmatized_Word\", \"Original_Words\"])"
   ]
  },
  {
   "cell_type": "code",
   "execution_count": null,
   "id": "7",
   "metadata": {},
   "outputs": [],
   "source": [
    "\n",
    "#  Sentence Embeddings with Sentence-BERT\n",
    "model = SentenceTransformer(\"paraphrase-MiniLM-L6-v2\")\n",
    "embeddings = model.encode(df[\"lemmatized_queries\"].tolist())"
   ]
  },
  {
   "cell_type": "code",
   "execution_count": null,
   "id": "8",
   "metadata": {},
   "outputs": [],
   "source": [
    "\n",
    "#  K-Means Clustering\n",
    "def optimal_clusters(embeddings, max_clusters=15):\n",
    "    distortions = []\n",
    "    silhouette_scores = []\n",
    "    cluster_range = range(2, max_clusters+1)\n",
    "\n",
    "    for k in cluster_range:\n",
    "        kmeans = KMeans(n_clusters=k, random_state=42, n_init=10)\n",
    "        kmeans.fit(embeddings)\n",
    "        \n",
    "        # Calculate Elbow Method distortion score\n",
    "        distortions.append(kmeans.inertia_)\n",
    "\n",
    "        # Calculate Silhouette Score\n",
    "        silhouette_avg = silhouette_score(embeddings, kmeans.labels_)\n",
    "        silhouette_scores.append(silhouette_avg)\n",
    "\n",
    "    return cluster_range, distortions, silhouette_scores\n",
    "\n",
    "# Find the optimal number of clusters using Elbow & Silhouette methods\n",
    "cluster_range, distortions, silhouette_scores = optimal_clusters(embeddings)\n",
    "\n",
    "#  Plot Elbow Method\n",
    "plt.figure(figsize=(8, 5))\n",
    "plt.plot(cluster_range, distortions, marker=\"o\", linestyle=\"-\")\n",
    "plt.xlabel(\"Number of Clusters\")\n",
    "plt.ylabel(\"Distortion (Inertia)\")\n",
    "plt.title(\"Elbow Method for Optimal Clusters\")\n",
    "plt.show()\n",
    "\n",
    "#  Plot Silhouette Score\n",
    "plt.figure(figsize=(8, 5))\n",
    "plt.plot(cluster_range, silhouette_scores, marker=\"o\", linestyle=\"-\", color=\"red\")\n",
    "plt.xlabel(\"Number of Clusters\")\n",
    "plt.ylabel(\"Silhouette Score\")\n",
    "plt.title(\"Silhouette Score Analysis\")\n",
    "plt.show()"
   ]
  },
  {
   "cell_type": "code",
   "execution_count": null,
   "id": "9",
   "metadata": {},
   "outputs": [],
   "source": [
    "\n",
    "#  Perform final K-Means clustering using the best number of clusters\n",
    "optimal_k = 7 #cluster_range[silhouette_scores.index(max(silhouette_scores))]  # Best cluster count\n",
    "final_kmeans = KMeans(n_clusters=optimal_k, random_state=42, n_init=10)\n",
    "df[\"Cluster\"] = final_kmeans.fit_predict(embeddings)\n",
    "\n",
    "#  Function to Predict Cluster for New Input\n",
    "def predict_cluster(user_input):\n",
    "    processed_input = preprocess_text(user_input)\n",
    "    input_embedding = model.encode([processed_input])\n",
    "    cluster = final_kmeans.predict(input_embedding)[0]\n",
    "    print(f\"🔹 The input belongs to Cluster {cluster}\")\n",
    "    return cluster"
   ]
  },
  {
   "cell_type": "code",
   "execution_count": null,
   "id": "10",
   "metadata": {},
   "outputs": [],
   "source": [
    "\n",
    "# Function to Find Top 5 Most Frequent Words in Each Cluster\n",
    "def get_top_words_per_cluster():\n",
    "    cluster_word_counts = defaultdict(Counter)\n",
    "\n",
    "    for _, row in df.iterrows():\n",
    "        words = row[\"lemmatized_queries\"].split()\n",
    "        cluster_word_counts[row[\"Cluster\"]].update(words)\n",
    "\n",
    "    top_words = {cluster: word_counts.most_common(5) for cluster, word_counts in cluster_word_counts.items()}\n",
    "    \n",
    "    # Convert to DataFrame for better visualization\n",
    "    top_words_df = pd.DataFrame([\n",
    "        {\"Cluster\": cluster, \"Top_Words\": [word for word, _ in words]} for cluster, words in top_words.items()\n",
    "    ])\n",
    "    \n",
    "    return top_words_df"
   ]
  },
  {
   "cell_type": "code",
   "execution_count": null,
   "id": "11",
   "metadata": {},
   "outputs": [],
   "source": [
    "\n",
    "# 🔹 Save processed data and mappings\n",
    "\n",
    "top_words_df = get_top_words_per_cluster()\n",
    "df.to_csv(\"../data/lemmatized_queries_with_clusters.csv\", index=False)\n",
    "word_mapping_df.to_csv(\"../data/lemmatization_mapping_stanza.csv\", index=False)\n",
    "top_words_df.to_csv(\"../data/top_words_per_cluster.csv\", index=False)\n"
   ]
  },
  {
   "cell_type": "code",
   "execution_count": null,
   "id": "12",
   "metadata": {},
   "outputs": [],
   "source": [
    "\n",
    "# 🔹 Display the mapping DataFrame\n",
    "display(word_mapping_df)\n"
   ]
  },
  {
   "cell_type": "code",
   "execution_count": null,
   "id": "13",
   "metadata": {},
   "outputs": [],
   "source": [
    "display(top_words_df)"
   ]
  },
  {
   "cell_type": "code",
   "execution_count": null,
   "id": "14",
   "metadata": {},
   "outputs": [],
   "source": [
    "\n",
    "# 🔹 Show processed DataFrame\n",
    "df.head()\n",
    "\n"
   ]
  },
  {
   "cell_type": "code",
   "execution_count": null,
   "id": "15",
   "metadata": {},
   "outputs": [],
   "source": [
    "# **Simple CLI for Testing**\n",
    "if __name__ == \"__main__\":\n",
    "    while True:\n",
    "        query = input(\"\\n💬 Enter your query (or type 'exit' to quit): \")\n",
    "        if query.lower() == 'exit':\n",
    "            print(\"👋 Exiting... Have a great day!\")\n",
    "            break\n",
    "        intent = predict_intent(query)\n",
    "        print(f\"🔹 Predicted Intent: {intent}\")"
   ]
  },
  {
   "cell_type": "code",
   "execution_count": null,
   "id": "16",
   "metadata": {},
   "outputs": [],
   "source": []
  },
  {
   "cell_type": "code",
   "execution_count": null,
   "id": "17",
   "metadata": {},
   "outputs": [],
   "source": []
  }
 ],
 "metadata": {
  "kernelspec": {
   "display_name": "Python [conda env:base] *",
   "language": "python",
   "name": "conda-base-py"
  },
  "language_info": {
   "codemirror_mode": {
    "name": "ipython",
    "version": 3
   },
   "file_extension": ".py",
   "mimetype": "text/x-python",
   "name": "python",
   "nbconvert_exporter": "python",
   "pygments_lexer": "ipython3",
   "version": "3.12.7"
  }
 },
 "nbformat": 4,
 "nbformat_minor": 5
}
