{
 "cells": [
  {
   "cell_type": "code",
   "execution_count": 1,
   "metadata": {},
   "outputs": [
    {
     "name": "stdout",
     "output_type": "stream",
     "text": [
      "Requirement already satisfied: spacy in c:\\users\\katerina\\anaconda3\\lib\\site-packages (3.8.4)\n",
      "Requirement already satisfied: spacy-legacy<3.1.0,>=3.0.11 in c:\\users\\katerina\\anaconda3\\lib\\site-packages (from spacy) (3.0.12)\n",
      "Requirement already satisfied: spacy-loggers<2.0.0,>=1.0.0 in c:\\users\\katerina\\anaconda3\\lib\\site-packages (from spacy) (1.0.5)\n",
      "Requirement already satisfied: murmurhash<1.1.0,>=0.28.0 in c:\\users\\katerina\\anaconda3\\lib\\site-packages (from spacy) (1.0.12)\n",
      "Requirement already satisfied: cymem<2.1.0,>=2.0.2 in c:\\users\\katerina\\anaconda3\\lib\\site-packages (from spacy) (2.0.11)\n",
      "Requirement already satisfied: preshed<3.1.0,>=3.0.2 in c:\\users\\katerina\\anaconda3\\lib\\site-packages (from spacy) (3.0.9)\n",
      "Requirement already satisfied: thinc<8.4.0,>=8.3.4 in c:\\users\\katerina\\anaconda3\\lib\\site-packages (from spacy) (8.3.4)\n",
      "Requirement already satisfied: wasabi<1.2.0,>=0.9.1 in c:\\users\\katerina\\anaconda3\\lib\\site-packages (from spacy) (1.1.3)\n",
      "Requirement already satisfied: srsly<3.0.0,>=2.4.3 in c:\\users\\katerina\\anaconda3\\lib\\site-packages (from spacy) (2.5.1)\n",
      "Requirement already satisfied: catalogue<2.1.0,>=2.0.6 in c:\\users\\katerina\\anaconda3\\lib\\site-packages (from spacy) (2.0.10)\n",
      "Requirement already satisfied: weasel<0.5.0,>=0.1.0 in c:\\users\\katerina\\anaconda3\\lib\\site-packages (from spacy) (0.4.1)\n",
      "Requirement already satisfied: typer<1.0.0,>=0.3.0 in c:\\users\\katerina\\anaconda3\\lib\\site-packages (from spacy) (0.15.1)\n",
      "Requirement already satisfied: tqdm<5.0.0,>=4.38.0 in c:\\users\\katerina\\anaconda3\\lib\\site-packages (from spacy) (4.66.5)\n",
      "Requirement already satisfied: numpy>=1.19.0 in c:\\users\\katerina\\anaconda3\\lib\\site-packages (from spacy) (1.26.4)\n",
      "Requirement already satisfied: requests<3.0.0,>=2.13.0 in c:\\users\\katerina\\anaconda3\\lib\\site-packages (from spacy) (2.32.3)\n",
      "Requirement already satisfied: pydantic!=1.8,!=1.8.1,<3.0.0,>=1.7.4 in c:\\users\\katerina\\anaconda3\\lib\\site-packages (from spacy) (2.8.2)\n",
      "Requirement already satisfied: jinja2 in c:\\users\\katerina\\anaconda3\\lib\\site-packages (from spacy) (3.1.4)\n",
      "Requirement already satisfied: setuptools in c:\\users\\katerina\\anaconda3\\lib\\site-packages (from spacy) (75.1.0)\n",
      "Requirement already satisfied: packaging>=20.0 in c:\\users\\katerina\\anaconda3\\lib\\site-packages (from spacy) (24.1)\n",
      "Requirement already satisfied: langcodes<4.0.0,>=3.2.0 in c:\\users\\katerina\\anaconda3\\lib\\site-packages (from spacy) (3.5.0)\n",
      "Requirement already satisfied: language-data>=1.2 in c:\\users\\katerina\\anaconda3\\lib\\site-packages (from langcodes<4.0.0,>=3.2.0->spacy) (1.3.0)\n",
      "Requirement already satisfied: annotated-types>=0.4.0 in c:\\users\\katerina\\anaconda3\\lib\\site-packages (from pydantic!=1.8,!=1.8.1,<3.0.0,>=1.7.4->spacy) (0.6.0)\n",
      "Requirement already satisfied: pydantic-core==2.20.1 in c:\\users\\katerina\\anaconda3\\lib\\site-packages (from pydantic!=1.8,!=1.8.1,<3.0.0,>=1.7.4->spacy) (2.20.1)\n",
      "Requirement already satisfied: typing-extensions>=4.6.1 in c:\\users\\katerina\\anaconda3\\lib\\site-packages (from pydantic!=1.8,!=1.8.1,<3.0.0,>=1.7.4->spacy) (4.11.0)\n",
      "Requirement already satisfied: charset-normalizer<4,>=2 in c:\\users\\katerina\\anaconda3\\lib\\site-packages (from requests<3.0.0,>=2.13.0->spacy) (3.3.2)\n",
      "Requirement already satisfied: idna<4,>=2.5 in c:\\users\\katerina\\anaconda3\\lib\\site-packages (from requests<3.0.0,>=2.13.0->spacy) (3.7)\n",
      "Requirement already satisfied: urllib3<3,>=1.21.1 in c:\\users\\katerina\\anaconda3\\lib\\site-packages (from requests<3.0.0,>=2.13.0->spacy) (2.2.3)\n",
      "Requirement already satisfied: certifi>=2017.4.17 in c:\\users\\katerina\\anaconda3\\lib\\site-packages (from requests<3.0.0,>=2.13.0->spacy) (2025.1.31)\n",
      "Requirement already satisfied: blis<1.3.0,>=1.2.0 in c:\\users\\katerina\\anaconda3\\lib\\site-packages (from thinc<8.4.0,>=8.3.4->spacy) (1.2.0)\n",
      "Requirement already satisfied: confection<1.0.0,>=0.0.1 in c:\\users\\katerina\\anaconda3\\lib\\site-packages (from thinc<8.4.0,>=8.3.4->spacy) (0.1.5)\n",
      "Requirement already satisfied: colorama in c:\\users\\katerina\\anaconda3\\lib\\site-packages (from tqdm<5.0.0,>=4.38.0->spacy) (0.4.6)\n",
      "Requirement already satisfied: click>=8.0.0 in c:\\users\\katerina\\anaconda3\\lib\\site-packages (from typer<1.0.0,>=0.3.0->spacy) (8.1.7)\n",
      "Requirement already satisfied: shellingham>=1.3.0 in c:\\users\\katerina\\anaconda3\\lib\\site-packages (from typer<1.0.0,>=0.3.0->spacy) (1.5.0)\n",
      "Requirement already satisfied: rich>=10.11.0 in c:\\users\\katerina\\anaconda3\\lib\\site-packages (from typer<1.0.0,>=0.3.0->spacy) (13.7.1)\n",
      "Requirement already satisfied: cloudpathlib<1.0.0,>=0.7.0 in c:\\users\\katerina\\anaconda3\\lib\\site-packages (from weasel<0.5.0,>=0.1.0->spacy) (0.20.0)\n",
      "Requirement already satisfied: smart-open<8.0.0,>=5.2.1 in c:\\users\\katerina\\anaconda3\\lib\\site-packages (from weasel<0.5.0,>=0.1.0->spacy) (5.2.1)\n",
      "Requirement already satisfied: MarkupSafe>=2.0 in c:\\users\\katerina\\anaconda3\\lib\\site-packages (from jinja2->spacy) (2.1.3)\n",
      "Requirement already satisfied: marisa-trie>=1.1.0 in c:\\users\\katerina\\anaconda3\\lib\\site-packages (from language-data>=1.2->langcodes<4.0.0,>=3.2.0->spacy) (1.2.1)\n",
      "Requirement already satisfied: markdown-it-py>=2.2.0 in c:\\users\\katerina\\anaconda3\\lib\\site-packages (from rich>=10.11.0->typer<1.0.0,>=0.3.0->spacy) (2.2.0)\n",
      "Requirement already satisfied: pygments<3.0.0,>=2.13.0 in c:\\users\\katerina\\anaconda3\\lib\\site-packages (from rich>=10.11.0->typer<1.0.0,>=0.3.0->spacy) (2.15.1)\n",
      "Requirement already satisfied: mdurl~=0.1 in c:\\users\\katerina\\anaconda3\\lib\\site-packages (from markdown-it-py>=2.2.0->rich>=10.11.0->typer<1.0.0,>=0.3.0->spacy) (0.1.0)\n"
     ]
    }
   ],
   "source": [
    "!pip install spacy\n"
   ]
  },
  {
   "cell_type": "code",
   "execution_count": 2,
   "metadata": {
    "colab": {
     "base_uri": "https://localhost:8080/"
    },
    "id": "Wgsbg31Uc_Bm",
    "outputId": "82f7356b-78ca-484f-c2e9-34208411591c"
   },
   "outputs": [
    {
     "name": "stdout",
     "output_type": "stream",
     "text": [
      "Requirement already satisfied: langdetect in c:\\users\\katerina\\anaconda3\\lib\\site-packages (1.0.9)\n",
      "Requirement already satisfied: six in c:\\users\\katerina\\anaconda3\\lib\\site-packages (from langdetect) (1.16.0)\n",
      "Collecting el-core-news-sm==3.8.0\n",
      "  Downloading https://github.com/explosion/spacy-models/releases/download/el_core_news_sm-3.8.0/el_core_news_sm-3.8.0-py3-none-any.whl (12.6 MB)\n",
      "     ---------------------------------------- 0.0/12.6 MB ? eta -:--:--\n",
      "     - -------------------------------------- 0.5/12.6 MB 5.6 MB/s eta 0:00:03\n",
      "     --------- ------------------------------ 3.1/12.6 MB 9.7 MB/s eta 0:00:01\n",
      "     ---------------- ----------------------- 5.2/12.6 MB 10.3 MB/s eta 0:00:01\n",
      "     ------------------------ --------------- 7.6/12.6 MB 10.4 MB/s eta 0:00:01\n",
      "     ------------------------------ --------- 9.7/12.6 MB 10.6 MB/s eta 0:00:01\n",
      "     ------------------------------------- - 12.1/12.6 MB 10.5 MB/s eta 0:00:01\n",
      "     ---------------------------------------- 12.6/12.6 MB 9.9 MB/s eta 0:00:00\n",
      "\u001b[38;5;2m[+] Download and installation successful\u001b[0m\n",
      "You can now load the package via spacy.load('el_core_news_sm')\n"
     ]
    },
    {
     "name": "stderr",
     "output_type": "stream",
     "text": [
      "[nltk_data] Downloading package stopwords to\n",
      "[nltk_data]     C:\\Users\\Katerina\\AppData\\Roaming\\nltk_data...\n",
      "[nltk_data]   Unzipping corpora\\stopwords.zip.\n",
      "[nltk_data] Downloading package wordnet to\n",
      "[nltk_data]     C:\\Users\\Katerina\\AppData\\Roaming\\nltk_data...\n",
      "[nltk_data]   Package wordnet is already up-to-date!\n"
     ]
    },
    {
     "data": {
      "text/plain": [
       "True"
      ]
     },
     "execution_count": 2,
     "metadata": {},
     "output_type": "execute_result"
    }
   ],
   "source": [
    "!pip install langdetect\n",
    "!python -m spacy download el_core_news_sm\n",
    "\n",
    "\n",
    "from sklearn.cluster import KMeans\n",
    "from sklearn.metrics import silhouette_score\n",
    "from nltk.corpus import stopwords\n",
    "from nltk.stem import WordNetLemmatizer\n",
    "from sentence_transformers import SentenceTransformer\n",
    "from collections import Counter\n",
    "import matplotlib.pyplot as plt\n",
    "import nltk\n",
    "import re\n",
    "import random\n",
    "import spacy\n",
    "import matplotlib.pyplot as plt\n",
    "import seaborn as sns\n",
    "import pandas as pd\n",
    "import numpy as np\n",
    "\n",
    "from nltk.corpus import stopwords\n",
    "from sentence_transformers import SentenceTransformer\n",
    "from sklearn.cluster import KMeans\n",
    "from sklearn.metrics import silhouette_score\n",
    "from langdetect import detect\n",
    "# Download NLTK resources\n",
    "nltk.download('stopwords')\n",
    "nltk.download('wordnet')"
   ]
  },
  {
   "cell_type": "code",
   "execution_count": 3,
   "metadata": {
    "colab": {
     "base_uri": "https://localhost:8080/",
     "height": 909
    },
    "id": "5g1TVB4ku9qp",
    "outputId": "a3d5d758-47e6-4268-a340-ab2e05f8b8c5"
   },
   "outputs": [],
   "source": [
    "\n",
    "\n",
    "\n",
    "df = pd.read_csv('C:/Users/Katerina/Documents/Chatbot/Customer Utterances.csv')\n",
    "\n",
    "\n",
    "query_column = \"Utterance\"\n",
    "queries = df[query_column].dropna().tolist()  # Convert to list and remove NaN values\n",
    "\n",
    "\n",
    "# Load Greek SpaCy model\n",
    "import spacy\n",
    "nlp = spacy.load(\"el_core_news_sm\")\n",
    "\n",
    "  # Load stopwords\n",
    "english_stopwords = set(stopwords.words('english'))\n",
    "greek_stopwords = set(stopwords.words('greek'))\n",
    "custom_stopwords = set(['θέλω','έχω',\n",
    "    'και', 'να', 'το', 'μου', 'του', 'της', 'εγω', 'ένα', 'σε', 'με', 'για','κάνω', 'εγώ',\n",
    "    'θα', 'απο', 'αυτό', 'αυτή', 'αυτο', 'ότι', 'πως', 'πολύ', 'εδώ', 'εκεί', 'είμαι','ακόμη', 'αυτές', 'στο','στις', 'στους','στα','στο','στη','δικό', 'δικού',\n",
    "'δικός','εσάς', 'την', 'τα', 'είναι','μια', 'μία','έχει', 'είχαμε', 'είχα', 'έχουμε', 'έχετε','ήθελα','κάνετε', 'κάνει', 'έκανα','κάποιον', 'κάποιο', 'κάποιες','λέω', 'δω', 'μπω', 'πω', 'πείτε','τους', 'σας', 'μας','μπορείτε', 'μπορούσατε', 'μπορούσα', 'μπορεί',\n",
    "'τη', 'τους', 'τo', 'η', 'οι', 'τα', 'το', 'την', 'των', 'τις', 'τον','όλων', 'όλης', 'όλο', 'όλοι', 'όλους','οποίο','ποιους', 'ποια', 'ποιο', 'ποιες','ποιον','πόση','πόσες','πόση', 'πόσα','πόσα','σ',\"σε\"]) \n",
    "custom_stopwords = {word.lower() for word in custom_stopwords}\n",
    "\n",
    "def preprocess_text(text):\n",
    "    text = text.lower()\n",
    "    text = ''.join([char for char in text if char.isalnum() or char == ' '])  # punctuation\n",
    "    # Process text using SpaCy\n",
    "    doc = nlp(text)\n",
    "    # Apply lemmatization and stopword removal (using the lemmatized form)\n",
    "    text = ' '.join([token.lemma_ for token in doc if token.lemma_.lower() not in english_stopwords\n",
    "                     and token.lemma_.lower() not in greek_stopwords\n",
    "                     and token.lemma_.lower() not in custom_stopwords])\n",
    "\n",
    "    return text\n",
    "\n",
    "\n",
    "\n",
    "\n"
   ]
  },
  {
   "cell_type": "code",
   "execution_count": 4,
   "metadata": {
    "colab": {
     "base_uri": "https://localhost:8080/"
    },
    "id": "_ZuFmK7H0e59",
    "outputId": "26a3b420-90f0-47d6-c384-bb45bc0c6f35"
   },
   "outputs": [
    {
     "data": {
      "text/html": [
       "<div>\n",
       "<style scoped>\n",
       "    .dataframe tbody tr th:only-of-type {\n",
       "        vertical-align: middle;\n",
       "    }\n",
       "\n",
       "    .dataframe tbody tr th {\n",
       "        vertical-align: top;\n",
       "    }\n",
       "\n",
       "    .dataframe thead th {\n",
       "        text-align: right;\n",
       "    }\n",
       "</style>\n",
       "<table border=\"1\" class=\"dataframe\">\n",
       "  <thead>\n",
       "    <tr style=\"text-align: right;\">\n",
       "      <th></th>\n",
       "      <th>Utterance</th>\n",
       "      <th>Cluster</th>\n",
       "      <th>processed_queries</th>\n",
       "    </tr>\n",
       "  </thead>\n",
       "  <tbody>\n",
       "    <tr>\n",
       "      <th>0</th>\n",
       "      <td>πρέπει να έχω πάσο για να βάλω φοιτητικό</td>\n",
       "      <td>NaN</td>\n",
       "      <td>πρέπει πάσο βάλω φοιτητικός</td>\n",
       "    </tr>\n",
       "    <tr>\n",
       "      <th>1</th>\n",
       "      <td>θα ήθελα να κάνω διακανονισμό σε όλο το ληξιπρ...</td>\n",
       "      <td>NaN</td>\n",
       "      <td>διακανονισμός όλος ληξιπρόθεσμο</td>\n",
       "    </tr>\n",
       "    <tr>\n",
       "      <th>2</th>\n",
       "      <td>θέλω χρόνο για να μιλάω</td>\n",
       "      <td>NaN</td>\n",
       "      <td>χρόνος μιλάως</td>\n",
       "    </tr>\n",
       "    <tr>\n",
       "      <th>3</th>\n",
       "      <td>χρειάζομαι ανανέωση</td>\n",
       "      <td>NaN</td>\n",
       "      <td>χρειάζομαι ανανέωση</td>\n",
       "    </tr>\n",
       "    <tr>\n",
       "      <th>4</th>\n",
       "      <td>τo παραστατικό του σταθερού μου</td>\n",
       "      <td>NaN</td>\n",
       "      <td>παραστατικός σταθερού</td>\n",
       "    </tr>\n",
       "    <tr>\n",
       "      <th>...</th>\n",
       "      <td>...</td>\n",
       "      <td>...</td>\n",
       "      <td>...</td>\n",
       "    </tr>\n",
       "    <tr>\n",
       "      <th>673</th>\n",
       "      <td>επιθυμώ να βάλω λεπτά ομιλίας</td>\n",
       "      <td>NaN</td>\n",
       "      <td>επιθυμώ βάλω λεπτό ομιλία</td>\n",
       "    </tr>\n",
       "    <tr>\n",
       "      <th>674</th>\n",
       "      <td>περιμένω τον συνάδελφό σας να έρθει για το ραν...</td>\n",
       "      <td>NaN</td>\n",
       "      <td>περιμένω συνάδελφος έρθει ραντεβού</td>\n",
       "    </tr>\n",
       "    <tr>\n",
       "      <th>675</th>\n",
       "      <td>θέλω να ενημερωθώ για τον τρόπο που μπορεί να ...</td>\n",
       "      <td>NaN</td>\n",
       "      <td>ενημερωθώ τρόπος μπορώ γίνομαι αίτηση</td>\n",
       "    </tr>\n",
       "    <tr>\n",
       "      <th>676</th>\n",
       "      <td>πότε έχει προγραμματιστεί το νέο ραντεβού</td>\n",
       "      <td>NaN</td>\n",
       "      <td>πότε προγραμματίζω νέος ραντεβού</td>\n",
       "    </tr>\n",
       "    <tr>\n",
       "      <th>677</th>\n",
       "      <td>να κάνω εξόφληση λογαριασμού για το σταθερό μου</td>\n",
       "      <td>NaN</td>\n",
       "      <td>εξόφληση λογαριασμός σταθερός</td>\n",
       "    </tr>\n",
       "  </tbody>\n",
       "</table>\n",
       "<p>678 rows × 3 columns</p>\n",
       "</div>"
      ],
      "text/plain": [
       "                                             Utterance  Cluster  \\\n",
       "0             πρέπει να έχω πάσο για να βάλω φοιτητικό      NaN   \n",
       "1    θα ήθελα να κάνω διακανονισμό σε όλο το ληξιπρ...      NaN   \n",
       "2                              θέλω χρόνο για να μιλάω      NaN   \n",
       "3                                  χρειάζομαι ανανέωση      NaN   \n",
       "4                      τo παραστατικό του σταθερού μου      NaN   \n",
       "..                                                 ...      ...   \n",
       "673                      επιθυμώ να βάλω λεπτά ομιλίας      NaN   \n",
       "674  περιμένω τον συνάδελφό σας να έρθει για το ραν...      NaN   \n",
       "675  θέλω να ενημερωθώ για τον τρόπο που μπορεί να ...      NaN   \n",
       "676          πότε έχει προγραμματιστεί το νέο ραντεβού      NaN   \n",
       "677    να κάνω εξόφληση λογαριασμού για το σταθερό μου      NaN   \n",
       "\n",
       "                         processed_queries  \n",
       "0              πρέπει πάσο βάλω φοιτητικός  \n",
       "1          διακανονισμός όλος ληξιπρόθεσμο  \n",
       "2                            χρόνος μιλάως  \n",
       "3                      χρειάζομαι ανανέωση  \n",
       "4                    παραστατικός σταθερού  \n",
       "..                                     ...  \n",
       "673              επιθυμώ βάλω λεπτό ομιλία  \n",
       "674     περιμένω συνάδελφος έρθει ραντεβού  \n",
       "675  ενημερωθώ τρόπος μπορώ γίνομαι αίτηση  \n",
       "676       πότε προγραμματίζω νέος ραντεβού  \n",
       "677          εξόφληση λογαριασμός σταθερός  \n",
       "\n",
       "[678 rows x 3 columns]"
      ]
     },
     "execution_count": 4,
     "metadata": {},
     "output_type": "execute_result"
    }
   ],
   "source": [
    "data = [preprocess_text(text) for text in queries]\n",
    "df[\"processed_queries\"] = data\n",
    "df.to_csv(\"processed_queries.csv\", index=False)\n",
    "df"
   ]
  },
  {
   "cell_type": "code",
   "execution_count": 5,
   "metadata": {
    "colab": {
     "base_uri": "https://localhost:8080/",
     "height": 472
    },
    "id": "Nj1hAXUP1182",
    "outputId": "7573bacc-d175-4beb-96d5-86f1279e36b5"
   },
   "outputs": [
    {
     "data": {
      "application/vnd.jupyter.widget-view+json": {
       "model_id": "fd5a4eafa3394055b24773d6d7bf25de",
       "version_major": 2,
       "version_minor": 0
      },
      "text/plain": [
       "modules.json:   0%|          | 0.00/229 [00:00<?, ?B/s]"
      ]
     },
     "metadata": {},
     "output_type": "display_data"
    },
    {
     "name": "stderr",
     "output_type": "stream",
     "text": [
      "C:\\Users\\Katerina\\anaconda3\\Lib\\site-packages\\huggingface_hub\\file_download.py:140: UserWarning: `huggingface_hub` cache-system uses symlinks by default to efficiently store duplicated files but your machine does not support them in C:\\Users\\Katerina\\.cache\\huggingface\\hub\\models--sentence-transformers--paraphrase-multilingual-mpnet-base-v2. Caching files will still work but in a degraded version that might require more space on your disk. This warning can be disabled by setting the `HF_HUB_DISABLE_SYMLINKS_WARNING` environment variable. For more details, see https://huggingface.co/docs/huggingface_hub/how-to-cache#limitations.\n",
      "To support symlinks on Windows, you either need to activate Developer Mode or to run Python as an administrator. In order to activate developer mode, see this article: https://docs.microsoft.com/en-us/windows/apps/get-started/enable-your-device-for-development\n",
      "  warnings.warn(message)\n"
     ]
    },
    {
     "data": {
      "application/vnd.jupyter.widget-view+json": {
       "model_id": "065cc48ee60a454488411b162e6c8804",
       "version_major": 2,
       "version_minor": 0
      },
      "text/plain": [
       "config_sentence_transformers.json:   0%|          | 0.00/122 [00:00<?, ?B/s]"
      ]
     },
     "metadata": {},
     "output_type": "display_data"
    },
    {
     "data": {
      "application/vnd.jupyter.widget-view+json": {
       "model_id": "6b41af3917b34c98a1f1c32db0093e73",
       "version_major": 2,
       "version_minor": 0
      },
      "text/plain": [
       "README.md:   0%|          | 0.00/3.90k [00:00<?, ?B/s]"
      ]
     },
     "metadata": {},
     "output_type": "display_data"
    },
    {
     "data": {
      "application/vnd.jupyter.widget-view+json": {
       "model_id": "d9a1d40a55d44d6797d65e790919ccb2",
       "version_major": 2,
       "version_minor": 0
      },
      "text/plain": [
       "sentence_bert_config.json:   0%|          | 0.00/53.0 [00:00<?, ?B/s]"
      ]
     },
     "metadata": {},
     "output_type": "display_data"
    },
    {
     "data": {
      "application/vnd.jupyter.widget-view+json": {
       "model_id": "22935bb1b1524eef90cf401cb1c70d87",
       "version_major": 2,
       "version_minor": 0
      },
      "text/plain": [
       "config.json:   0%|          | 0.00/723 [00:00<?, ?B/s]"
      ]
     },
     "metadata": {},
     "output_type": "display_data"
    },
    {
     "data": {
      "application/vnd.jupyter.widget-view+json": {
       "model_id": "07c7d93ad32e470998db22bf86c6ffbe",
       "version_major": 2,
       "version_minor": 0
      },
      "text/plain": [
       "model.safetensors:   0%|          | 0.00/1.11G [00:00<?, ?B/s]"
      ]
     },
     "metadata": {},
     "output_type": "display_data"
    },
    {
     "data": {
      "application/vnd.jupyter.widget-view+json": {
       "model_id": "84c7c2aafe6c41fabf0da85f160a33a6",
       "version_major": 2,
       "version_minor": 0
      },
      "text/plain": [
       "tokenizer_config.json:   0%|          | 0.00/402 [00:00<?, ?B/s]"
      ]
     },
     "metadata": {},
     "output_type": "display_data"
    },
    {
     "data": {
      "application/vnd.jupyter.widget-view+json": {
       "model_id": "04d20a26462d4b5e8faee7c22de91894",
       "version_major": 2,
       "version_minor": 0
      },
      "text/plain": [
       "sentencepiece.bpe.model:   0%|          | 0.00/5.07M [00:00<?, ?B/s]"
      ]
     },
     "metadata": {},
     "output_type": "display_data"
    },
    {
     "data": {
      "application/vnd.jupyter.widget-view+json": {
       "model_id": "a17e2201ffa74c8fa731d9b647f0efa2",
       "version_major": 2,
       "version_minor": 0
      },
      "text/plain": [
       "tokenizer.json:   0%|          | 0.00/9.08M [00:00<?, ?B/s]"
      ]
     },
     "metadata": {},
     "output_type": "display_data"
    },
    {
     "data": {
      "application/vnd.jupyter.widget-view+json": {
       "model_id": "dabb3229e3744f479a30c9700da648c4",
       "version_major": 2,
       "version_minor": 0
      },
      "text/plain": [
       "special_tokens_map.json:   0%|          | 0.00/239 [00:00<?, ?B/s]"
      ]
     },
     "metadata": {},
     "output_type": "display_data"
    },
    {
     "data": {
      "application/vnd.jupyter.widget-view+json": {
       "model_id": "921917ba697c4f3fa5a6f5db2039bdd8",
       "version_major": 2,
       "version_minor": 0
      },
      "text/plain": [
       "config.json:   0%|          | 0.00/190 [00:00<?, ?B/s]"
      ]
     },
     "metadata": {},
     "output_type": "display_data"
    },
    {
     "name": "stderr",
     "output_type": "stream",
     "text": [
      "C:\\Users\\Katerina\\anaconda3\\Lib\\site-packages\\sklearn\\cluster\\_kmeans.py:1429: UserWarning: KMeans is known to have a memory leak on Windows with MKL, when there are less chunks than available threads. You can avoid it by setting the environment variable OMP_NUM_THREADS=3.\n",
      "  warnings.warn(\n",
      "C:\\Users\\Katerina\\anaconda3\\Lib\\site-packages\\sklearn\\cluster\\_kmeans.py:1429: UserWarning: KMeans is known to have a memory leak on Windows with MKL, when there are less chunks than available threads. You can avoid it by setting the environment variable OMP_NUM_THREADS=3.\n",
      "  warnings.warn(\n",
      "C:\\Users\\Katerina\\anaconda3\\Lib\\site-packages\\sklearn\\cluster\\_kmeans.py:1429: UserWarning: KMeans is known to have a memory leak on Windows with MKL, when there are less chunks than available threads. You can avoid it by setting the environment variable OMP_NUM_THREADS=3.\n",
      "  warnings.warn(\n",
      "C:\\Users\\Katerina\\anaconda3\\Lib\\site-packages\\sklearn\\cluster\\_kmeans.py:1429: UserWarning: KMeans is known to have a memory leak on Windows with MKL, when there are less chunks than available threads. You can avoid it by setting the environment variable OMP_NUM_THREADS=3.\n",
      "  warnings.warn(\n",
      "C:\\Users\\Katerina\\anaconda3\\Lib\\site-packages\\sklearn\\cluster\\_kmeans.py:1429: UserWarning: KMeans is known to have a memory leak on Windows with MKL, when there are less chunks than available threads. You can avoid it by setting the environment variable OMP_NUM_THREADS=3.\n",
      "  warnings.warn(\n",
      "C:\\Users\\Katerina\\anaconda3\\Lib\\site-packages\\sklearn\\cluster\\_kmeans.py:1429: UserWarning: KMeans is known to have a memory leak on Windows with MKL, when there are less chunks than available threads. You can avoid it by setting the environment variable OMP_NUM_THREADS=3.\n",
      "  warnings.warn(\n",
      "C:\\Users\\Katerina\\anaconda3\\Lib\\site-packages\\sklearn\\cluster\\_kmeans.py:1429: UserWarning: KMeans is known to have a memory leak on Windows with MKL, when there are less chunks than available threads. You can avoid it by setting the environment variable OMP_NUM_THREADS=3.\n",
      "  warnings.warn(\n",
      "C:\\Users\\Katerina\\anaconda3\\Lib\\site-packages\\sklearn\\cluster\\_kmeans.py:1429: UserWarning: KMeans is known to have a memory leak on Windows with MKL, when there are less chunks than available threads. You can avoid it by setting the environment variable OMP_NUM_THREADS=3.\n",
      "  warnings.warn(\n",
      "C:\\Users\\Katerina\\anaconda3\\Lib\\site-packages\\sklearn\\cluster\\_kmeans.py:1429: UserWarning: KMeans is known to have a memory leak on Windows with MKL, when there are less chunks than available threads. You can avoid it by setting the environment variable OMP_NUM_THREADS=3.\n",
      "  warnings.warn(\n",
      "C:\\Users\\Katerina\\anaconda3\\Lib\\site-packages\\sklearn\\cluster\\_kmeans.py:1429: UserWarning: KMeans is known to have a memory leak on Windows with MKL, when there are less chunks than available threads. You can avoid it by setting the environment variable OMP_NUM_THREADS=3.\n",
      "  warnings.warn(\n",
      "C:\\Users\\Katerina\\anaconda3\\Lib\\site-packages\\sklearn\\cluster\\_kmeans.py:1429: UserWarning: KMeans is known to have a memory leak on Windows with MKL, when there are less chunks than available threads. You can avoid it by setting the environment variable OMP_NUM_THREADS=3.\n",
      "  warnings.warn(\n",
      "C:\\Users\\Katerina\\anaconda3\\Lib\\site-packages\\sklearn\\cluster\\_kmeans.py:1429: UserWarning: KMeans is known to have a memory leak on Windows with MKL, when there are less chunks than available threads. You can avoid it by setting the environment variable OMP_NUM_THREADS=3.\n",
      "  warnings.warn(\n",
      "C:\\Users\\Katerina\\anaconda3\\Lib\\site-packages\\sklearn\\cluster\\_kmeans.py:1429: UserWarning: KMeans is known to have a memory leak on Windows with MKL, when there are less chunks than available threads. You can avoid it by setting the environment variable OMP_NUM_THREADS=3.\n",
      "  warnings.warn(\n",
      "C:\\Users\\Katerina\\anaconda3\\Lib\\site-packages\\sklearn\\cluster\\_kmeans.py:1429: UserWarning: KMeans is known to have a memory leak on Windows with MKL, when there are less chunks than available threads. You can avoid it by setting the environment variable OMP_NUM_THREADS=3.\n",
      "  warnings.warn(\n",
      "C:\\Users\\Katerina\\anaconda3\\Lib\\site-packages\\sklearn\\cluster\\_kmeans.py:1429: UserWarning: KMeans is known to have a memory leak on Windows with MKL, when there are less chunks than available threads. You can avoid it by setting the environment variable OMP_NUM_THREADS=3.\n",
      "  warnings.warn(\n",
      "C:\\Users\\Katerina\\anaconda3\\Lib\\site-packages\\sklearn\\cluster\\_kmeans.py:1429: UserWarning: KMeans is known to have a memory leak on Windows with MKL, when there are less chunks than available threads. You can avoid it by setting the environment variable OMP_NUM_THREADS=3.\n",
      "  warnings.warn(\n",
      "C:\\Users\\Katerina\\anaconda3\\Lib\\site-packages\\sklearn\\cluster\\_kmeans.py:1429: UserWarning: KMeans is known to have a memory leak on Windows with MKL, when there are less chunks than available threads. You can avoid it by setting the environment variable OMP_NUM_THREADS=3.\n",
      "  warnings.warn(\n",
      "C:\\Users\\Katerina\\anaconda3\\Lib\\site-packages\\sklearn\\cluster\\_kmeans.py:1429: UserWarning: KMeans is known to have a memory leak on Windows with MKL, when there are less chunks than available threads. You can avoid it by setting the environment variable OMP_NUM_THREADS=3.\n",
      "  warnings.warn(\n",
      "C:\\Users\\Katerina\\anaconda3\\Lib\\site-packages\\sklearn\\cluster\\_kmeans.py:1429: UserWarning: KMeans is known to have a memory leak on Windows with MKL, when there are less chunks than available threads. You can avoid it by setting the environment variable OMP_NUM_THREADS=3.\n",
      "  warnings.warn(\n",
      "C:\\Users\\Katerina\\anaconda3\\Lib\\site-packages\\sklearn\\cluster\\_kmeans.py:1429: UserWarning: KMeans is known to have a memory leak on Windows with MKL, when there are less chunks than available threads. You can avoid it by setting the environment variable OMP_NUM_THREADS=3.\n",
      "  warnings.warn(\n",
      "C:\\Users\\Katerina\\anaconda3\\Lib\\site-packages\\sklearn\\cluster\\_kmeans.py:1429: UserWarning: KMeans is known to have a memory leak on Windows with MKL, when there are less chunks than available threads. You can avoid it by setting the environment variable OMP_NUM_THREADS=3.\n",
      "  warnings.warn(\n",
      "C:\\Users\\Katerina\\anaconda3\\Lib\\site-packages\\sklearn\\cluster\\_kmeans.py:1429: UserWarning: KMeans is known to have a memory leak on Windows with MKL, when there are less chunks than available threads. You can avoid it by setting the environment variable OMP_NUM_THREADS=3.\n",
      "  warnings.warn(\n",
      "C:\\Users\\Katerina\\anaconda3\\Lib\\site-packages\\sklearn\\cluster\\_kmeans.py:1429: UserWarning: KMeans is known to have a memory leak on Windows with MKL, when there are less chunks than available threads. You can avoid it by setting the environment variable OMP_NUM_THREADS=3.\n",
      "  warnings.warn(\n",
      "C:\\Users\\Katerina\\anaconda3\\Lib\\site-packages\\sklearn\\cluster\\_kmeans.py:1429: UserWarning: KMeans is known to have a memory leak on Windows with MKL, when there are less chunks than available threads. You can avoid it by setting the environment variable OMP_NUM_THREADS=3.\n",
      "  warnings.warn(\n",
      "C:\\Users\\Katerina\\anaconda3\\Lib\\site-packages\\sklearn\\cluster\\_kmeans.py:1429: UserWarning: KMeans is known to have a memory leak on Windows with MKL, when there are less chunks than available threads. You can avoid it by setting the environment variable OMP_NUM_THREADS=3.\n",
      "  warnings.warn(\n",
      "C:\\Users\\Katerina\\anaconda3\\Lib\\site-packages\\sklearn\\cluster\\_kmeans.py:1429: UserWarning: KMeans is known to have a memory leak on Windows with MKL, when there are less chunks than available threads. You can avoid it by setting the environment variable OMP_NUM_THREADS=3.\n",
      "  warnings.warn(\n",
      "C:\\Users\\Katerina\\anaconda3\\Lib\\site-packages\\sklearn\\cluster\\_kmeans.py:1429: UserWarning: KMeans is known to have a memory leak on Windows with MKL, when there are less chunks than available threads. You can avoid it by setting the environment variable OMP_NUM_THREADS=3.\n",
      "  warnings.warn(\n",
      "C:\\Users\\Katerina\\anaconda3\\Lib\\site-packages\\sklearn\\cluster\\_kmeans.py:1429: UserWarning: KMeans is known to have a memory leak on Windows with MKL, when there are less chunks than available threads. You can avoid it by setting the environment variable OMP_NUM_THREADS=3.\n",
      "  warnings.warn(\n",
      "C:\\Users\\Katerina\\anaconda3\\Lib\\site-packages\\sklearn\\cluster\\_kmeans.py:1429: UserWarning: KMeans is known to have a memory leak on Windows with MKL, when there are less chunks than available threads. You can avoid it by setting the environment variable OMP_NUM_THREADS=3.\n",
      "  warnings.warn(\n"
     ]
    },
    {
     "data": {
      "image/png": "[encoded data removed]",
      "text/plain": [
       "<Figure size 640x480 with 1 Axes>"
      ]
     },
     "metadata": {},
     "output_type": "display_data"
    }
   ],
   "source": [
    "# Load Sentence-BERT model\n",
    "model = SentenceTransformer('paraphrase-multilingual-mpnet-base-v2')\n",
    "\n",
    "# Generate sentence embeddings\n",
    "sentence_embeddings = model.encode(data)\n",
    "\n",
    "# optimal number of clusters\n",
    "inertia = []\n",
    "for k in range(1, 30):  # Test 1 to 20 clusters\n",
    "    kmeans = KMeans(n_clusters=k, random_state=42, n_init=10)\n",
    "    kmeans.fit(sentence_embeddings)\n",
    "    inertia.append(kmeans.inertia_)\n",
    "\n",
    "# Elbow plot\n",
    "plt.plot(range(1, 30), inertia, marker='o')\n",
    "plt.xlabel('Number of Clusters')\n",
    "plt.ylabel('Inertia')\n",
    "plt.title('Elbow Method')\n",
    "plt.show()\n"
   ]
  },
  {
   "cell_type": "code",
   "execution_count": 6,
   "metadata": {
    "colab": {
     "base_uri": "https://localhost:8080/",
     "height": 472
    },
    "id": "_3a5xt6tG-aw",
    "outputId": "7f239c3f-0efa-427d-b1e7-6c1147a335f8"
   },
   "outputs": [
    {
     "name": "stderr",
     "output_type": "stream",
     "text": [
      "C:\\Users\\Katerina\\anaconda3\\Lib\\site-packages\\sklearn\\cluster\\_kmeans.py:1429: UserWarning: KMeans is known to have a memory leak on Windows with MKL, when there are less chunks than available threads. You can avoid it by setting the environment variable OMP_NUM_THREADS=3.\n",
      "  warnings.warn(\n",
      "C:\\Users\\Katerina\\anaconda3\\Lib\\site-packages\\sklearn\\cluster\\_kmeans.py:1429: UserWarning: KMeans is known to have a memory leak on Windows with MKL, when there are less chunks than available threads. You can avoid it by setting the environment variable OMP_NUM_THREADS=3.\n",
      "  warnings.warn(\n",
      "C:\\Users\\Katerina\\anaconda3\\Lib\\site-packages\\sklearn\\cluster\\_kmeans.py:1429: UserWarning: KMeans is known to have a memory leak on Windows with MKL, when there are less chunks than available threads. You can avoid it by setting the environment variable OMP_NUM_THREADS=3.\n",
      "  warnings.warn(\n",
      "C:\\Users\\Katerina\\anaconda3\\Lib\\site-packages\\sklearn\\cluster\\_kmeans.py:1429: UserWarning: KMeans is known to have a memory leak on Windows with MKL, when there are less chunks than available threads. You can avoid it by setting the environment variable OMP_NUM_THREADS=3.\n",
      "  warnings.warn(\n",
      "C:\\Users\\Katerina\\anaconda3\\Lib\\site-packages\\sklearn\\cluster\\_kmeans.py:1429: UserWarning: KMeans is known to have a memory leak on Windows with MKL, when there are less chunks than available threads. You can avoid it by setting the environment variable OMP_NUM_THREADS=3.\n",
      "  warnings.warn(\n",
      "C:\\Users\\Katerina\\anaconda3\\Lib\\site-packages\\sklearn\\cluster\\_kmeans.py:1429: UserWarning: KMeans is known to have a memory leak on Windows with MKL, when there are less chunks than available threads. You can avoid it by setting the environment variable OMP_NUM_THREADS=3.\n",
      "  warnings.warn(\n",
      "C:\\Users\\Katerina\\anaconda3\\Lib\\site-packages\\sklearn\\cluster\\_kmeans.py:1429: UserWarning: KMeans is known to have a memory leak on Windows with MKL, when there are less chunks than available threads. You can avoid it by setting the environment variable OMP_NUM_THREADS=3.\n",
      "  warnings.warn(\n",
      "C:\\Users\\Katerina\\anaconda3\\Lib\\site-packages\\sklearn\\cluster\\_kmeans.py:1429: UserWarning: KMeans is known to have a memory leak on Windows with MKL, when there are less chunks than available threads. You can avoid it by setting the environment variable OMP_NUM_THREADS=3.\n",
      "  warnings.warn(\n",
      "C:\\Users\\Katerina\\anaconda3\\Lib\\site-packages\\sklearn\\cluster\\_kmeans.py:1429: UserWarning: KMeans is known to have a memory leak on Windows with MKL, when there are less chunks than available threads. You can avoid it by setting the environment variable OMP_NUM_THREADS=3.\n",
      "  warnings.warn(\n",
      "C:\\Users\\Katerina\\anaconda3\\Lib\\site-packages\\sklearn\\cluster\\_kmeans.py:1429: UserWarning: KMeans is known to have a memory leak on Windows with MKL, when there are less chunks than available threads. You can avoid it by setting the environment variable OMP_NUM_THREADS=3.\n",
      "  warnings.warn(\n",
      "C:\\Users\\Katerina\\anaconda3\\Lib\\site-packages\\sklearn\\cluster\\_kmeans.py:1429: UserWarning: KMeans is known to have a memory leak on Windows with MKL, when there are less chunks than available threads. You can avoid it by setting the environment variable OMP_NUM_THREADS=3.\n",
      "  warnings.warn(\n",
      "C:\\Users\\Katerina\\anaconda3\\Lib\\site-packages\\sklearn\\cluster\\_kmeans.py:1429: UserWarning: KMeans is known to have a memory leak on Windows with MKL, when there are less chunks than available threads. You can avoid it by setting the environment variable OMP_NUM_THREADS=3.\n",
      "  warnings.warn(\n",
      "C:\\Users\\Katerina\\anaconda3\\Lib\\site-packages\\sklearn\\cluster\\_kmeans.py:1429: UserWarning: KMeans is known to have a memory leak on Windows with MKL, when there are less chunks than available threads. You can avoid it by setting the environment variable OMP_NUM_THREADS=3.\n",
      "  warnings.warn(\n",
      "C:\\Users\\Katerina\\anaconda3\\Lib\\site-packages\\sklearn\\cluster\\_kmeans.py:1429: UserWarning: KMeans is known to have a memory leak on Windows with MKL, when there are less chunks than available threads. You can avoid it by setting the environment variable OMP_NUM_THREADS=3.\n",
      "  warnings.warn(\n",
      "C:\\Users\\Katerina\\anaconda3\\Lib\\site-packages\\sklearn\\cluster\\_kmeans.py:1429: UserWarning: KMeans is known to have a memory leak on Windows with MKL, when there are less chunks than available threads. You can avoid it by setting the environment variable OMP_NUM_THREADS=3.\n",
      "  warnings.warn(\n",
      "C:\\Users\\Katerina\\anaconda3\\Lib\\site-packages\\sklearn\\cluster\\_kmeans.py:1429: UserWarning: KMeans is known to have a memory leak on Windows with MKL, when there are less chunks than available threads. You can avoid it by setting the environment variable OMP_NUM_THREADS=3.\n",
      "  warnings.warn(\n",
      "C:\\Users\\Katerina\\anaconda3\\Lib\\site-packages\\sklearn\\cluster\\_kmeans.py:1429: UserWarning: KMeans is known to have a memory leak on Windows with MKL, when there are less chunks than available threads. You can avoid it by setting the environment variable OMP_NUM_THREADS=3.\n",
      "  warnings.warn(\n",
      "C:\\Users\\Katerina\\anaconda3\\Lib\\site-packages\\sklearn\\cluster\\_kmeans.py:1429: UserWarning: KMeans is known to have a memory leak on Windows with MKL, when there are less chunks than available threads. You can avoid it by setting the environment variable OMP_NUM_THREADS=3.\n",
      "  warnings.warn(\n",
      "C:\\Users\\Katerina\\anaconda3\\Lib\\site-packages\\sklearn\\cluster\\_kmeans.py:1429: UserWarning: KMeans is known to have a memory leak on Windows with MKL, when there are less chunks than available threads. You can avoid it by setting the environment variable OMP_NUM_THREADS=3.\n",
      "  warnings.warn(\n",
      "C:\\Users\\Katerina\\anaconda3\\Lib\\site-packages\\sklearn\\cluster\\_kmeans.py:1429: UserWarning: KMeans is known to have a memory leak on Windows with MKL, when there are less chunks than available threads. You can avoid it by setting the environment variable OMP_NUM_THREADS=3.\n",
      "  warnings.warn(\n",
      "C:\\Users\\Katerina\\anaconda3\\Lib\\site-packages\\sklearn\\cluster\\_kmeans.py:1429: UserWarning: KMeans is known to have a memory leak on Windows with MKL, when there are less chunks than available threads. You can avoid it by setting the environment variable OMP_NUM_THREADS=3.\n",
      "  warnings.warn(\n",
      "C:\\Users\\Katerina\\anaconda3\\Lib\\site-packages\\sklearn\\cluster\\_kmeans.py:1429: UserWarning: KMeans is known to have a memory leak on Windows with MKL, when there are less chunks than available threads. You can avoid it by setting the environment variable OMP_NUM_THREADS=3.\n",
      "  warnings.warn(\n",
      "C:\\Users\\Katerina\\anaconda3\\Lib\\site-packages\\sklearn\\cluster\\_kmeans.py:1429: UserWarning: KMeans is known to have a memory leak on Windows with MKL, when there are less chunks than available threads. You can avoid it by setting the environment variable OMP_NUM_THREADS=3.\n",
      "  warnings.warn(\n",
      "C:\\Users\\Katerina\\anaconda3\\Lib\\site-packages\\sklearn\\cluster\\_kmeans.py:1429: UserWarning: KMeans is known to have a memory leak on Windows with MKL, when there are less chunks than available threads. You can avoid it by setting the environment variable OMP_NUM_THREADS=3.\n",
      "  warnings.warn(\n",
      "C:\\Users\\Katerina\\anaconda3\\Lib\\site-packages\\sklearn\\cluster\\_kmeans.py:1429: UserWarning: KMeans is known to have a memory leak on Windows with MKL, when there are less chunks than available threads. You can avoid it by setting the environment variable OMP_NUM_THREADS=3.\n",
      "  warnings.warn(\n",
      "C:\\Users\\Katerina\\anaconda3\\Lib\\site-packages\\sklearn\\cluster\\_kmeans.py:1429: UserWarning: KMeans is known to have a memory leak on Windows with MKL, when there are less chunks than available threads. You can avoid it by setting the environment variable OMP_NUM_THREADS=3.\n",
      "  warnings.warn(\n",
      "C:\\Users\\Katerina\\anaconda3\\Lib\\site-packages\\sklearn\\cluster\\_kmeans.py:1429: UserWarning: KMeans is known to have a memory leak on Windows with MKL, when there are less chunks than available threads. You can avoid it by setting the environment variable OMP_NUM_THREADS=3.\n",
      "  warnings.warn(\n",
      "C:\\Users\\Katerina\\anaconda3\\Lib\\site-packages\\sklearn\\cluster\\_kmeans.py:1429: UserWarning: KMeans is known to have a memory leak on Windows with MKL, when there are less chunks than available threads. You can avoid it by setting the environment variable OMP_NUM_THREADS=3.\n",
      "  warnings.warn(\n"
     ]
    },
    {
     "data": {
      "image/png": "[encoded data removed]",
      "text/plain": [
       "<Figure size 640x480 with 1 Axes>"
      ]
     },
     "metadata": {},
     "output_type": "display_data"
    }
   ],
   "source": [
    "from sklearn.metrics import silhouette_score\n",
    "\n",
    "# Test different numbers of clusters\n",
    "silhouette_scores = []\n",
    "for k in range(2, 30):  # Start from 2 clusters\n",
    "    kmeans = KMeans(n_clusters=k, random_state=42, n_init=10)\n",
    "    kmeans.fit(sentence_embeddings)\n",
    "    score = silhouette_score(sentence_embeddings, kmeans.labels_)\n",
    "    silhouette_scores.append(score)\n",
    "\n",
    "# Plot the silhouette scores\n",
    "plt.plot(range(2, 30), silhouette_scores, marker='o')\n",
    "plt.xlabel('Number of Clusters')\n",
    "plt.ylabel('Silhouette Score')\n",
    "plt.title('Silhouette Method')\n",
    "plt.show()\n"
   ]
  },
  {
   "cell_type": "code",
   "execution_count": 7,
   "metadata": {
    "colab": {
     "base_uri": "https://localhost:8080/"
    },
    "id": "6TP8yXbQ2tTh",
    "outputId": "02cbe5c3-62e1-4994-c25c-c7710bc72bb9"
   },
   "outputs": [
    {
     "name": "stdout",
     "output_type": "stream",
     "text": [
      "['πρέπει', 'πάσο', 'βάλω', 'φοιτητικός']\n",
      "['διακανονισμός', 'όλος', 'ληξιπρόθεσμο']\n",
      "['χρόνος', 'μιλάως']\n",
      "['χρειάζομαι', 'ανανέωση']\n",
      "['παραστατικός', 'σταθερού']\n",
      "['τιμή', 'νέος', 'tablet']\n",
      "['ενημερωθώ', 'σχετικά', 'διαθέσιμος', 'υπόλοιπος']\n",
      "['αποπληρωμή', 'λογαριασμός', 'κινητό']\n",
      "['αίτηση', 'φοιτητικός', 'πακέτο']\n",
      "['απενεργοποιηθεί']\n",
      "['tethering']\n",
      "['ραντεβού', 'νέος', 'σύνδεση']\n",
      "['παράπονο']\n",
      "['εξοφλώ', 'τηλέφωνό']\n",
      "['εξοφλώ', 'κινητό']\n",
      "['λογαριασμός', 'τηλεόραση']\n",
      "['βάλω', 'πιο', 'εύκολος', 'κωδικός', 'σε', 'ο', 'hotspot']\n",
      "['αγορά', 'tablet']\n",
      "['πώς', 'μπορώ', 'καταθέσω', 'αίτηση']\n",
      "['λογαριασμός', 'τηλεόραση']\n"
     ]
    }
   ],
   "source": [
    "# Check lemmatization for the first few queries\n",
    "for query in data[:20\n",
    "                  ]:  # Iterate over the first  preprocessed queries\n",
    "    doc = nlp(query)  # Process the query with SpaCy\n",
    "    print([token.lemma_ for token in doc])  # Print lemmatized words\n"
   ]
  },
  {
   "cell_type": "code",
   "execution_count": 8,
   "metadata": {
    "colab": {
     "base_uri": "https://localhost:8080/"
    },
    "id": "ezpBggybB9yl",
    "outputId": "9eac852c-2aef-4779-c379-912a7728bdd4"
   },
   "outputs": [
    {
     "name": "stderr",
     "output_type": "stream",
     "text": [
      "C:\\Users\\Katerina\\anaconda3\\Lib\\site-packages\\sklearn\\cluster\\_kmeans.py:1429: UserWarning: KMeans is known to have a memory leak on Windows with MKL, when there are less chunks than available threads. You can avoid it by setting the environment variable OMP_NUM_THREADS=3.\n",
      "  warnings.warn(\n"
     ]
    },
    {
     "name": "stdout",
     "output_type": "stream",
     "text": [
      "Cluster 0: [('διακανονισμός', 24), ('υπόλοιπος', 17), ('μάθω', 11), ('ανανέωση', 10), ('επιθυμώ', 10)]\n",
      "Cluster 1: [('οφειλή', 30), ('χρωστάω', 13), ('αποπληρωμή', 13), ('λογαριασμός', 13), ('εξόφληση', 13)]\n",
      "Cluster 2: [('κλήσεων', 32), ('ανάλυση', 30), ('κινητό', 26), ('λογαριασμός', 23), ('σε', 16)]\n",
      "Cluster 3: [('αίτηση', 35), ('μπορώ', 25), ('τρόπος', 13), ('πώς', 12), ('καταχωρώ', 11)]\n",
      "Cluster 4: [('λογαριασμός', 55), ('αναλυτικός', 18), ('διακανονισμός', 15), ('υπηρεσία', 11), ('σε', 10)]\n",
      "Cluster 5: [('tethering', 18), ('πώς', 5), ('δουλεύω', 3), ('κινητό', 2), ('κάτι', 2)]\n",
      "Cluster 6: [('ομιλία', 41), ('χρόνος', 27), ('ραντεβού', 26), ('ένας', 15), ('λεπτό', 15)]\n",
      "Cluster 7: [('hotspot', 23), ('πώς', 7), ('σε', 4), ('ο', 4), ('κινητό', 4)]\n"
     ]
    }
   ],
   "source": [
    "num_clusters = 8\n",
    "\n",
    "# Perform K-Means clustering\n",
    "kmeans = KMeans(n_clusters=num_clusters, random_state=42, n_init=10)\n",
    "kmeans.fit(sentence_embeddings)\n",
    "\n",
    "# Add cluster labels to results\n",
    "results = pd.DataFrame({\n",
    "    'Query': data,\n",
    "    'Cluster': kmeans.labels_\n",
    "})\n",
    "\n",
    "# Automate intent labeling using top keywords\n",
    "top_keywords = {}\n",
    "for cluster in range(num_clusters):\n",
    "    cluster_queries = results[results['Cluster'] == cluster]['Query']\n",
    "    words = ' '.join(cluster_queries).split()\n",
    "    top_keywords[cluster] = Counter(words).most_common(5)  # Top 5 keywords\n",
    "\n",
    "# Print top keywords for each cluster\n",
    "for cluster, keywords in top_keywords.items():\n",
    "    print(f\"Cluster {cluster}: {keywords}\")\n",
    "\n"
   ]
  },
  {
   "cell_type": "code",
   "execution_count": 9,
   "metadata": {
    "id": "icg2JjYgAqlH"
   },
   "outputs": [],
   "source": [
    "cluster_labels_mapping = {\n",
    "    0: \"--\",\n",
    "    1: \"--\",\n",
    "    2: \"--ν\",\n",
    "    3:\"--\",\n",
    "    4: \"--\",\n",
    "    5:\"--\",\n",
    "    6: \"--\",\n",
    "    7: \"--\"\n",
    "}"
   ]
  },
  {
   "cell_type": "code",
   "execution_count": 10,
   "metadata": {
    "colab": {
     "base_uri": "https://localhost:8080/"
    },
    "id": "nAn1-xRkO2Rt",
    "outputId": "24f71734-0a93-44db-e8ec-06668f27268a"
   },
   "outputs": [
    {
     "name": "stdin",
     "output_type": "stream",
     "text": [
      "Enter your query (or type 'exit' to quit):  exit\n"
     ]
    }
   ],
   "source": [
    "# Simple CLI for testing\n",
    "def predict_intent(query):\n",
    "\n",
    "    embedding = model.encode([query])\n",
    "    cluster = kmeans.predict(embedding)[0]\n",
    "    return cluster_labels_mapping.get(cluster, 'unknown intent')\n",
    "\n",
    "# Test the CLI\n",
    "while True:\n",
    "    query = input(\"Enter your query (or type 'exit' to quit): \")\n",
    "    if query.lower() == 'exit':\n",
    "        break\n",
    "    intent = predict_intent(query)\n",
    "    print(f\"Predicted Intent: {intent}\")\n",
    "\n"
   ]
  },
  {
   "cell_type": "code",
   "execution_count": 11,
   "metadata": {
    "colab": {
     "base_uri": "https://localhost:8080/"
    },
    "id": "EIe7GJpoDGRz",
    "outputId": "c26c4310-0f83-49c0-af6e-73d2ffe987b1"
   },
   "outputs": [
    {
     "name": "stdout",
     "output_type": "stream",
     "text": [
      "Cluster 0: --\n",
      "                                      Query\n",
      "0               πρέπει πάσο βάλω φοιτητικός\n",
      "1           διακανονισμός όλος ληξιπρόθεσμο\n",
      "3                       χρειάζομαι ανανέωση\n",
      "4                     παραστατικός σταθερού\n",
      "6    ενημερωθώ σχετικά διαθέσιμος υπόλοιπος\n",
      "..                                      ...\n",
      "663                                απόκρυψη\n",
      "664          εξόφληση παραστατικός σταθερού\n",
      "670                            απενεργοποιώ\n",
      "671                 από πού βλέπω υπόλοιπος\n",
      "672                            ενεργοποίηση\n",
      "\n",
      "[176 rows x 1 columns]\n",
      "\n",
      "==================================================\n",
      "\n",
      "Cluster 1: --\n",
      "                              Query\n",
      "21   πού μπορώ βρω πληροφορία χρέος\n",
      "22     πόσος χρήμα χρωστάω συνολικά\n",
      "41   πώς μπορώ μάθω συνολικός χρέος\n",
      "42           αποπληρωμή λογαριασμός\n",
      "43               αποπληρώσως οφειλή\n",
      "..                              ...\n",
      "630        διακανονίζω ποσό χρωστάω\n",
      "646            εξόφληση λογαριασμός\n",
      "654      πόσος χρήμα χρωστάω τελικά\n",
      "661         μάθω πόσος χρήμα οφείλω\n",
      "677   εξόφληση λογαριασμός σταθερός\n",
      "\n",
      "[79 rows x 1 columns]\n",
      "\n",
      "==================================================\n",
      "\n",
      "Cluster 2: --ν\n",
      "                                          Query\n",
      "5                              τιμή νέος tablet\n",
      "7                 αποπληρωμή λογαριασμός κινητό\n",
      "13                              εξοφλώ τηλέφωνό\n",
      "14                                εξοφλώ κινητό\n",
      "17                                 αγορά tablet\n",
      "..                                          ...\n",
      "651                    βγήκε επιδότηση τηλέφωνό\n",
      "652               εξόφληση λογαριασμός τηλέφωνό\n",
      "653  πώς μπορώ διακανονισμός σταθερής τηλεφωνία\n",
      "665                            ένας νέος tablet\n",
      "669      γίνομαι αποπληρωμή λογαριασμός κινητού\n",
      "\n",
      "[138 rows x 1 columns]\n",
      "\n",
      "==================================================\n",
      "\n",
      "Cluster 3: --\n",
      "                                                 Query\n",
      "8                             αίτηση φοιτητικός πακέτο\n",
      "18                           πώς μπορώ καταθέσω αίτηση\n",
      "25          μπορώ πληροφορηθώ πώς μπορώ γίνομαι αίτηση\n",
      "47                             επιθυμώ καταχωρώ αίτηση\n",
      "57   επιθυμώ πληροφορηθώ διαδικασία μπορώ γίνομαι ώ...\n",
      "65                                              αίτηση\n",
      "68                             επιθυμώ καταχωρώ αίτημα\n",
      "78                              επιθυμώ υποβάλω αίτημα\n",
      "84                                    πώς μπορώ αίτηση\n",
      "111                 πληροφορώ πώς μπορώ γίνομαι αίτηση\n",
      "142                                             αίτηση\n",
      "162                                    καταχωρώ αίτημα\n",
      "167  τρόπος μπορώ ενημερωθώ τρόπος μπορώ γίνομαι αί...\n",
      "209                 πληροφορώ πώς μπορώ γίνομαι αίτηση\n",
      "249                           πώς μπορώ υποβάλω αίτημα\n",
      "266                                    καταθέσω αίτηση\n",
      "284                            καταχωρήστε ένας αίτημα\n",
      "311                 τρόπος μπορώ πραγματοποιήσω αίτηση\n",
      "327                                     υποβάλω αίτηση\n",
      "336         επιθυμώ πληροφορώ πώς μπορώ γίνομαι αίτηση\n",
      "361                                      τρόπος αίτηση\n",
      "363                       τρόπος μπορώ καταχωρώ αίτημα\n",
      "385                                   πώς μπορώ αίτημα\n",
      "389  χρειάζομαι ενημερωθώ σχετικά τρόπος υποβολή αί...\n",
      "401                            καταχωρήστε ένας αίτηση\n",
      "418                           πώς μπορώ υποβάλω αίτηση\n",
      "421                            επιθυμώ καταθέσω αίτηση\n",
      "440                                             αίτημα\n",
      "441                                    αίτηση ραντεβού\n",
      "445                       τρόπος μπορώ καταθέσω αίτηση\n",
      "460    πώς μπορώ ενημερωθώ τρόπος μπορώ γίνομαι αίτηση\n",
      "469                                     υποβάλω αίτηση\n",
      "479                          πώς μπορώ καταχωρώ αίτημα\n",
      "517                                    καταχωρώ αίτηση\n",
      "540                        πού μπορώ αίτηση φοιτητικός\n",
      "555                             τρόπος καταχωρώ αίτηση\n",
      "581                                     επιθυμώ αίτηση\n",
      "602                        τρόπος μπορώ υποβάλω αίτηση\n",
      "608                             επιθυμώ υποβάλω αίτηση\n",
      "614              ενημερωθώ τρόπος μπορώ γίνομαι αίτηση\n",
      "622      επιθυμώ ενημερωθώ τρόπος μπορώ γίνομαι αίτηση\n",
      "641                                    καταχωρώ αίτηση\n",
      "645                          πώς μπορώ καταχωρώ αίτηση\n",
      "647                                    καταχωρώ αίτημα\n",
      "666                                     επιθυμώ αίτημα\n",
      "675              ενημερωθώ τρόπος μπορώ γίνομαι αίτηση\n",
      "\n",
      "==================================================\n",
      "\n",
      "Cluster 4: --\n",
      "                                                 Query\n",
      "15                               λογαριασμός τηλεόραση\n",
      "19                               λογαριασμός τηλεόραση\n",
      "20                              αναλυτικός λογαριασμός\n",
      "33                                   υπηρεσία σταθερός\n",
      "40                          προσφέρω φοιτητικός πακέτο\n",
      "..                                                 ...\n",
      "620  διακανονισμός σε ο τηλεόραση γιατί αδυνατώ πλη...\n",
      "626                           αγορά πρόγραμμα μηνυμάτο\n",
      "636  μπορούσας πρόσβαση σε ο ανάλυση λογαριασμός στ...\n",
      "650                      ανάλυση εισερχόμενος μηνυμάτο\n",
      "656                                          επιδότηση\n",
      "\n",
      "[97 rows x 1 columns]\n",
      "\n",
      "==================================================\n",
      "\n",
      "Cluster 5: --\n",
      "                                       Query\n",
      "10                                 tethering\n",
      "124                         κινητό tethering\n",
      "139                    πώς ανοίγει tethering\n",
      "140                            πώς tethering\n",
      "197                 κάτι πάει καλά tethering\n",
      "223             χρειάζομαι βοήθεια tethering\n",
      "233                  tethering δουλεύω σωστά\n",
      "241                   όνομα tethering βρίσκω\n",
      "305                   ενεργοποίηση tethering\n",
      "309                  γιατί δουλεύω tethering\n",
      "320   κάτι έκανο σε ο tethering τώρα δουλεύω\n",
      "455                        κωδικός tethering\n",
      "484         από πού αλλάζω κωδικός tethering\n",
      "520                    πώς tethering συσκευή\n",
      "543                 από πού κλείνω tethering\n",
      "577                   κάπου οδηγία tethering\n",
      "611                     πώς κινητό tethering\n",
      "628  πώς ενεργοποιήσω tethering μέσω κινητού\n",
      "\n",
      "==================================================\n",
      "\n",
      "Cluster 6: --\n",
      "                                    Query\n",
      "2                           χρόνος μιλάως\n",
      "11                  ραντεβού νέος σύνδεση\n",
      "12                               παράπονο\n",
      "28                   πρέπει μιλώ πωλήσεις\n",
      "30               ένας ραντεβού αλλάξω ώρα\n",
      "..                                    ...\n",
      "667         ενεργοποίηση πρόγραμμα ομιλία\n",
      "668  βάλετε λεπτό ομιλία σε ο καρτοκινητό\n",
      "673             επιθυμώ βάλω λεπτό ομιλία\n",
      "674    περιμένω συνάδελφος έρθει ραντεβού\n",
      "676      πότε προγραμματίζω νέος ραντεβού\n",
      "\n",
      "[101 rows x 1 columns]\n",
      "\n",
      "==================================================\n",
      "\n",
      "Cluster 7: --\n",
      "                                     Query\n",
      "16   βάλω πιο εύκολος κωδικός σε ο hotspot\n",
      "70    κάτι έκανο σε ο hotspot τώρα δουλεύω\n",
      "75                                 hotspot\n",
      "88                          κινητό hotspot\n",
      "115   πώς ενεργοποιήσω hotspot σε ο κινητό\n",
      "133                  γιατί δουλεύω hotspot\n",
      "192                    πώς hotspot συσκευή\n",
      "201                 από πού κλείνω hotspot\n",
      "218                     πώς κινητό hotspot\n",
      "220           ξέρω από πού ανοίγει hotspot\n",
      "283        πώς κινητό λειτουργώ ως hotspot\n",
      "301                  hotspot δουλεύω σωστά\n",
      "378             χρειάζομαι βοήθεια hotspot\n",
      "450                   κάπου οδηγία hotspot\n",
      "481     βρίσκω ανοίξω hotspot σε ο συσκευή\n",
      "488                            πώς hotspot\n",
      "501         από πού αλλάζω κωδικός hotspot\n",
      "545                      δείξω πώς hotspot\n",
      "609                        κωδικός hotspot\n",
      "621                   ενεργοποίηση hotspot\n",
      "624                οδηγία hotspot παρακαλώ\n",
      "637                    πώς ανοίγει hotspot\n",
      "643                 κάτι πάει καλά hotspot\n",
      "\n",
      "==================================================\n",
      "\n"
     ]
    }
   ],
   "source": [
    "# View all rows of each cluster\n",
    "for cluster in range(num_clusters):\n",
    "    print(f\"Cluster {cluster}: {cluster_labels_mapping.get(cluster, 'Unknown')}\")\n",
    "    cluster_data = results[results['Cluster'] == cluster]\n",
    "    print(cluster_data[['Query']])  # Display only the query column \n",
    "    print(\"\\n\" + \"=\"*50 + \"\\n\")\n"
   ]
  },
  {
   "cell_type": "code",
   "execution_count": null,
   "metadata": {
    "id": "uMkjfVe4DG1T"
   },
   "outputs": [],
   "source": []
  },
  {
   "cell_type": "code",
   "execution_count": null,
   "metadata": {},
   "outputs": [],
   "source": []
  }
 ],
 "metadata": {
  "colab": {
   "provenance": []
  },
  "kernelspec": {
   "display_name": "Python [conda env:base] *",
   "language": "python",
   "name": "conda-base-py"
  },
  "language_info": {
   "codemirror_mode": {
    "name": "ipython",
    "version": 3
   },
   "file_extension": ".py",
   "mimetype": "text/x-python",
   "name": "python",
   "nbconvert_exporter": "python",
   "pygments_lexer": "ipython3",
   "version": "3.12.7"
  },
  "widgets": {
   "application/vnd.jupyter.widget-state+json": {
    "12a2043a6222416890e2b201807c6cee": {
     "model_module": "@jupyter-widgets/base",
     "model_module_version": "1.2.0",
     "model_name": "LayoutModel",
     "state": {
      "_model_module": "@jupyter-widgets/base",
      "_model_module_version": "1.2.0",
      "_model_name": "LayoutModel",
      "_view_count": null,
      "_view_module": "@jupyter-widgets/base",
      "_view_module_version": "1.2.0",
      "_view_name": "LayoutView",
      "align_content": null,
      "align_items": null,
      "align_self": null,
      "border": null,
      "bottom": null,
      "display": null,
      "flex": null,
      "flex_flow": null,
      "grid_area": null,
      "grid_auto_columns": null,
      "grid_auto_flow": null,
      "grid_auto_rows": null,
      "grid_column": null,
      "grid_gap": null,
      "grid_row": null,
      "grid_template_areas": null,
      "grid_template_columns": null,
      "grid_template_rows": null,
      "height": null,
      "justify_content": null,
      "justify_items": null,
      "left": null,
      "margin": null,
      "max_height": null,
      "max_width": null,
      "min_height": null,
      "min_width": null,
      "object_fit": null,
      "object_position": null,
      "order": null,
      "overflow": null,
      "overflow_x": null,
      "overflow_y": null,
      "padding": null,
      "right": null,
      "top": null,
      "visibility": null,
      "width": null
     }
    },
    "1c9ed676611f475ea4d9e4e7f1f95298": {
     "model_module": "@jupyter-widgets/controls",
     "model_module_version": "1.5.0",
     "model_name": "HTMLModel",
     "state": {
      "_dom_classes": [],
      "_model_module": "@jupyter-widgets/controls",
      "_model_module_version": "1.5.0",
      "_model_name": "HTMLModel",
      "_view_count": null,
      "_view_module": "@jupyter-widgets/controls",
      "_view_module_version": "1.5.0",
      "_view_name": "HTMLView",
      "description": "",
      "description_tooltip": null,
      "layout": "IPY_MODEL_da8766ad8bf846bbb0b9af2639854011",
      "placeholder": "​",
      "style": "IPY_MODEL_dd6e017bc0184a00b5621f060be3a208",
      "value": " 424k/? [00:00&lt;00:00, 15.0MB/s]"
     }
    },
    "1c9f864df20442a3ae66a9052cbd3290": {
     "model_module": "@jupyter-widgets/controls",
     "model_module_version": "1.5.0",
     "model_name": "DescriptionStyleModel",
     "state": {
      "_model_module": "@jupyter-widgets/controls",
      "_model_module_version": "1.5.0",
      "_model_name": "DescriptionStyleModel",
      "_view_count": null,
      "_view_module": "@jupyter-widgets/base",
      "_view_module_version": "1.2.0",
      "_view_name": "StyleView",
      "description_width": ""
     }
    },
    "2b440e0a785749de9d772526fce080d4": {
     "model_module": "@jupyter-widgets/base",
     "model_module_version": "1.2.0",
     "model_name": "LayoutModel",
     "state": {
      "_model_module": "@jupyter-widgets/base",
      "_model_module_version": "1.2.0",
      "_model_name": "LayoutModel",
      "_view_count": null,
      "_view_module": "@jupyter-widgets/base",
      "_view_module_version": "1.2.0",
      "_view_name": "LayoutView",
      "align_content": null,
      "align_items": null,
      "align_self": null,
      "border": null,
      "bottom": null,
      "display": null,
      "flex": null,
      "flex_flow": null,
      "grid_area": null,
      "grid_auto_columns": null,
      "grid_auto_flow": null,
      "grid_auto_rows": null,
      "grid_column": null,
      "grid_gap": null,
      "grid_row": null,
      "grid_template_areas": null,
      "grid_template_columns": null,
      "grid_template_rows": null,
      "height": null,
      "justify_content": null,
      "justify_items": null,
      "left": null,
      "margin": null,
      "max_height": null,
      "max_width": null,
      "min_height": null,
      "min_width": null,
      "object_fit": null,
      "object_position": null,
      "order": null,
      "overflow": null,
      "overflow_x": null,
      "overflow_y": null,
      "padding": null,
      "right": null,
      "top": null,
      "visibility": null,
      "width": null
     }
    },
    "3e943dc8f4d145a29f78a7f053a176ab": {
     "model_module": "@jupyter-widgets/controls",
     "model_module_version": "1.5.0",
     "model_name": "FloatProgressModel",
     "state": {
      "_dom_classes": [],
      "_model_module": "@jupyter-widgets/controls",
      "_model_module_version": "1.5.0",
      "_model_name": "FloatProgressModel",
      "_view_count": null,
      "_view_module": "@jupyter-widgets/controls",
      "_view_module_version": "1.5.0",
      "_view_name": "ProgressView",
      "bar_style": "success",
      "description": "",
      "description_tooltip": null,
      "layout": "IPY_MODEL_82d282ab8b174cecba3372f3a250a03a",
      "max": 52448,
      "min": 0,
      "orientation": "horizontal",
      "style": "IPY_MODEL_f6a1cc8f35d74fa1ace4736cfba557bf",
      "value": 52448
     }
    },
    "4115a750e3cd4c339649647bc92652c8": {
     "model_module": "@jupyter-widgets/controls",
     "model_module_version": "1.5.0",
     "model_name": "DescriptionStyleModel",
     "state": {
      "_model_module": "@jupyter-widgets/controls",
      "_model_module_version": "1.5.0",
      "_model_name": "DescriptionStyleModel",
      "_view_count": null,
      "_view_module": "@jupyter-widgets/base",
      "_view_module_version": "1.2.0",
      "_view_name": "StyleView",
      "description_width": ""
     }
    },
    "4267de7fcd9b4f75978eff1b9867fd56": {
     "model_module": "@jupyter-widgets/controls",
     "model_module_version": "1.5.0",
     "model_name": "HBoxModel",
     "state": {
      "_dom_classes": [],
      "_model_module": "@jupyter-widgets/controls",
      "_model_module_version": "1.5.0",
      "_model_name": "HBoxModel",
      "_view_count": null,
      "_view_module": "@jupyter-widgets/controls",
      "_view_module_version": "1.5.0",
      "_view_name": "HBoxView",
      "box_style": "",
      "children": [
       "IPY_MODEL_9fccca0944954e82867a8d9133d5ce93",
       "IPY_MODEL_3e943dc8f4d145a29f78a7f053a176ab",
       "IPY_MODEL_4c7f15eb7512493584f1027622275cab"
      ],
      "layout": "IPY_MODEL_693fa0c415804ddaa75f2227d7386cd4"
     }
    },
    "4c7f15eb7512493584f1027622275cab": {
     "model_module": "@jupyter-widgets/controls",
     "model_module_version": "1.5.0",
     "model_name": "HTMLModel",
     "state": {
      "_dom_classes": [],
      "_model_module": "@jupyter-widgets/controls",
      "_model_module_version": "1.5.0",
      "_model_name": "HTMLModel",
      "_view_count": null,
      "_view_module": "@jupyter-widgets/controls",
      "_view_module_version": "1.5.0",
      "_view_name": "HTMLView",
      "description": "",
      "description_tooltip": null,
      "layout": "IPY_MODEL_2b440e0a785749de9d772526fce080d4",
      "placeholder": "​",
      "style": "IPY_MODEL_1c9f864df20442a3ae66a9052cbd3290",
      "value": " 424k/? [00:00&lt;00:00, 15.5MB/s]"
     }
    },
    "63fd060014ea42fe980e82e584043f7f": {
     "model_module": "@jupyter-widgets/controls",
     "model_module_version": "1.5.0",
     "model_name": "HTMLModel",
     "state": {
      "_dom_classes": [],
      "_model_module": "@jupyter-widgets/controls",
      "_model_module_version": "1.5.0",
      "_model_name": "HTMLModel",
      "_view_count": null,
      "_view_module": "@jupyter-widgets/controls",
      "_view_module_version": "1.5.0",
      "_view_name": "HTMLView",
      "description": "",
      "description_tooltip": null,
      "layout": "IPY_MODEL_b5be0655cd9e4c32b437aeb7c7876dc0",
      "placeholder": "​",
      "style": "IPY_MODEL_4115a750e3cd4c339649647bc92652c8",
      "value": "Downloading https://raw.githubusercontent.com/stanfordnlp/stanza-resources/main/resources_1.10.0.json: "
     }
    },
    "693fa0c415804ddaa75f2227d7386cd4": {
     "model_module": "@jupyter-widgets/base",
     "model_module_version": "1.2.0",
     "model_name": "LayoutModel",
     "state": {
      "_model_module": "@jupyter-widgets/base",
      "_model_module_version": "1.2.0",
      "_model_name": "LayoutModel",
      "_view_count": null,
      "_view_module": "@jupyter-widgets/base",
      "_view_module_version": "1.2.0",
      "_view_name": "LayoutView",
      "align_content": null,
      "align_items": null,
      "align_self": null,
      "border": null,
      "bottom": null,
      "display": null,
      "flex": null,
      "flex_flow": null,
      "grid_area": null,
      "grid_auto_columns": null,
      "grid_auto_flow": null,
      "grid_auto_rows": null,
      "grid_column": null,
      "grid_gap": null,
      "grid_row": null,
      "grid_template_areas": null,
      "grid_template_columns": null,
      "grid_template_rows": null,
      "height": null,
      "justify_content": null,
      "justify_items": null,
      "left": null,
      "margin": null,
      "max_height": null,
      "max_width": null,
      "min_height": null,
      "min_width": null,
      "object_fit": null,
      "object_position": null,
      "order": null,
      "overflow": null,
      "overflow_x": null,
      "overflow_y": null,
      "padding": null,
      "right": null,
      "top": null,
      "visibility": null,
      "width": null
     }
    },
    "69c96fdeb60f4becab48223a6ec96cb1": {
     "model_module": "@jupyter-widgets/controls",
     "model_module_version": "1.5.0",
     "model_name": "HBoxModel",
     "state": {
      "_dom_classes": [],
      "_model_module": "@jupyter-widgets/controls",
      "_model_module_version": "1.5.0",
      "_model_name": "HBoxModel",
      "_view_count": null,
      "_view_module": "@jupyter-widgets/controls",
      "_view_module_version": "1.5.0",
      "_view_name": "HBoxView",
      "box_style": "",
      "children": [
       "IPY_MODEL_63fd060014ea42fe980e82e584043f7f",
       "IPY_MODEL_c9ab58d50b7a42fa8d2dadd805f191f5",
       "IPY_MODEL_1c9ed676611f475ea4d9e4e7f1f95298"
      ],
      "layout": "IPY_MODEL_12a2043a6222416890e2b201807c6cee"
     }
    },
    "6f890a75f59244b0acfc6fa37f23fddd": {
     "model_module": "@jupyter-widgets/controls",
     "model_module_version": "1.5.0",
     "model_name": "ProgressStyleModel",
     "state": {
      "_model_module": "@jupyter-widgets/controls",
      "_model_module_version": "1.5.0",
      "_model_name": "ProgressStyleModel",
      "_view_count": null,
      "_view_module": "@jupyter-widgets/base",
      "_view_module_version": "1.2.0",
      "_view_name": "StyleView",
      "bar_color": null,
      "description_width": ""
     }
    },
    "82d282ab8b174cecba3372f3a250a03a": {
     "model_module": "@jupyter-widgets/base",
     "model_module_version": "1.2.0",
     "model_name": "LayoutModel",
     "state": {
      "_model_module": "@jupyter-widgets/base",
      "_model_module_version": "1.2.0",
      "_model_name": "LayoutModel",
      "_view_count": null,
      "_view_module": "@jupyter-widgets/base",
      "_view_module_version": "1.2.0",
      "_view_name": "LayoutView",
      "align_content": null,
      "align_items": null,
      "align_self": null,
      "border": null,
      "bottom": null,
      "display": null,
      "flex": null,
      "flex_flow": null,
      "grid_area": null,
      "grid_auto_columns": null,
      "grid_auto_flow": null,
      "grid_auto_rows": null,
      "grid_column": null,
      "grid_gap": null,
      "grid_row": null,
      "grid_template_areas": null,
      "grid_template_columns": null,
      "grid_template_rows": null,
      "height": null,
      "justify_content": null,
      "justify_items": null,
      "left": null,
      "margin": null,
      "max_height": null,
      "max_width": null,
      "min_height": null,
      "min_width": null,
      "object_fit": null,
      "object_position": null,
      "order": null,
      "overflow": null,
      "overflow_x": null,
      "overflow_y": null,
      "padding": null,
      "right": null,
      "top": null,
      "visibility": null,
      "width": null
     }
    },
    "8dec6454869d454287526a0199f28e30": {
     "model_module": "@jupyter-widgets/base",
     "model_module_version": "1.2.0",
     "model_name": "LayoutModel",
     "state": {
      "_model_module": "@jupyter-widgets/base",
      "_model_module_version": "1.2.0",
      "_model_name": "LayoutModel",
      "_view_count": null,
      "_view_module": "@jupyter-widgets/base",
      "_view_module_version": "1.2.0",
      "_view_name": "LayoutView",
      "align_content": null,
      "align_items": null,
      "align_self": null,
      "border": null,
      "bottom": null,
      "display": null,
      "flex": null,
      "flex_flow": null,
      "grid_area": null,
      "grid_auto_columns": null,
      "grid_auto_flow": null,
      "grid_auto_rows": null,
      "grid_column": null,
      "grid_gap": null,
      "grid_row": null,
      "grid_template_areas": null,
      "grid_template_columns": null,
      "grid_template_rows": null,
      "height": null,
      "justify_content": null,
      "justify_items": null,
      "left": null,
      "margin": null,
      "max_height": null,
      "max_width": null,
      "min_height": null,
      "min_width": null,
      "object_fit": null,
      "object_position": null,
      "order": null,
      "overflow": null,
      "overflow_x": null,
      "overflow_y": null,
      "padding": null,
      "right": null,
      "top": null,
      "visibility": null,
      "width": null
     }
    },
    "9fccca0944954e82867a8d9133d5ce93": {
     "model_module": "@jupyter-widgets/controls",
     "model_module_version": "1.5.0",
     "model_name": "HTMLModel",
     "state": {
      "_dom_classes": [],
      "_model_module": "@jupyter-widgets/controls",
      "_model_module_version": "1.5.0",
      "_model_name": "HTMLModel",
      "_view_count": null,
      "_view_module": "@jupyter-widgets/controls",
      "_view_module_version": "1.5.0",
      "_view_name": "HTMLView",
      "description": "",
      "description_tooltip": null,
      "layout": "IPY_MODEL_8dec6454869d454287526a0199f28e30",
      "placeholder": "​",
      "style": "IPY_MODEL_b3ffabb054b74e97ae23c5e092426bfc",
      "value": "Downloading https://raw.githubusercontent.com/stanfordnlp/stanza-resources/main/resources_1.10.0.json: "
     }
    },
    "a82d41db1bb94803830872ae5b8d94fe": {
     "model_module": "@jupyter-widgets/base",
     "model_module_version": "1.2.0",
     "model_name": "LayoutModel",
     "state": {
      "_model_module": "@jupyter-widgets/base",
      "_model_module_version": "1.2.0",
      "_model_name": "LayoutModel",
      "_view_count": null,
      "_view_module": "@jupyter-widgets/base",
      "_view_module_version": "1.2.0",
      "_view_name": "LayoutView",
      "align_content": null,
      "align_items": null,
      "align_self": null,
      "border": null,
      "bottom": null,
      "display": null,
      "flex": null,
      "flex_flow": null,
      "grid_area": null,
      "grid_auto_columns": null,
      "grid_auto_flow": null,
      "grid_auto_rows": null,
      "grid_column": null,
      "grid_gap": null,
      "grid_row": null,
      "grid_template_areas": null,
      "grid_template_columns": null,
      "grid_template_rows": null,
      "height": null,
      "justify_content": null,
      "justify_items": null,
      "left": null,
      "margin": null,
      "max_height": null,
      "max_width": null,
      "min_height": null,
      "min_width": null,
      "object_fit": null,
      "object_position": null,
      "order": null,
      "overflow": null,
      "overflow_x": null,
      "overflow_y": null,
      "padding": null,
      "right": null,
      "top": null,
      "visibility": null,
      "width": null
     }
    },
    "b3ffabb054b74e97ae23c5e092426bfc": {
     "model_module": "@jupyter-widgets/controls",
     "model_module_version": "1.5.0",
     "model_name": "DescriptionStyleModel",
     "state": {
      "_model_module": "@jupyter-widgets/controls",
      "_model_module_version": "1.5.0",
      "_model_name": "DescriptionStyleModel",
      "_view_count": null,
      "_view_module": "@jupyter-widgets/base",
      "_view_module_version": "1.2.0",
      "_view_name": "StyleView",
      "description_width": ""
     }
    },
    "b5be0655cd9e4c32b437aeb7c7876dc0": {
     "model_module": "@jupyter-widgets/base",
     "model_module_version": "1.2.0",
     "model_name": "LayoutModel",
     "state": {
      "_model_module": "@jupyter-widgets/base",
      "_model_module_version": "1.2.0",
      "_model_name": "LayoutModel",
      "_view_count": null,
      "_view_module": "@jupyter-widgets/base",
      "_view_module_version": "1.2.0",
      "_view_name": "LayoutView",
      "align_content": null,
      "align_items": null,
      "align_self": null,
      "border": null,
      "bottom": null,
      "display": null,
      "flex": null,
      "flex_flow": null,
      "grid_area": null,
      "grid_auto_columns": null,
      "grid_auto_flow": null,
      "grid_auto_rows": null,
      "grid_column": null,
      "grid_gap": null,
      "grid_row": null,
      "grid_template_areas": null,
      "grid_template_columns": null,
      "grid_template_rows": null,
      "height": null,
      "justify_content": null,
      "justify_items": null,
      "left": null,
      "margin": null,
      "max_height": null,
      "max_width": null,
      "min_height": null,
      "min_width": null,
      "object_fit": null,
      "object_position": null,
      "order": null,
      "overflow": null,
      "overflow_x": null,
      "overflow_y": null,
      "padding": null,
      "right": null,
      "top": null,
      "visibility": null,
      "width": null
     }
    },
    "c9ab58d50b7a42fa8d2dadd805f191f5": {
     "model_module": "@jupyter-widgets/controls",
     "model_module_version": "1.5.0",
     "model_name": "FloatProgressModel",
     "state": {
      "_dom_classes": [],
      "_model_module": "@jupyter-widgets/controls",
      "_model_module_version": "1.5.0",
      "_model_name": "FloatProgressModel",
      "_view_count": null,
      "_view_module": "@jupyter-widgets/controls",
      "_view_module_version": "1.5.0",
      "_view_name": "ProgressView",
      "bar_style": "success",
      "description": "",
      "description_tooltip": null,
      "layout": "IPY_MODEL_a82d41db1bb94803830872ae5b8d94fe",
      "max": 52448,
      "min": 0,
      "orientation": "horizontal",
      "style": "IPY_MODEL_6f890a75f59244b0acfc6fa37f23fddd",
      "value": 52448
     }
    },
    "da8766ad8bf846bbb0b9af2639854011": {
     "model_module": "@jupyter-widgets/base",
     "model_module_version": "1.2.0",
     "model_name": "LayoutModel",
     "state": {
      "_model_module": "@jupyter-widgets/base",
      "_model_module_version": "1.2.0",
      "_model_name": "LayoutModel",
      "_view_count": null,
      "_view_module": "@jupyter-widgets/base",
      "_view_module_version": "1.2.0",
      "_view_name": "LayoutView",
      "align_content": null,
      "align_items": null,
      "align_self": null,
      "border": null,
      "bottom": null,
      "display": null,
      "flex": null,
      "flex_flow": null,
      "grid_area": null,
      "grid_auto_columns": null,
      "grid_auto_flow": null,
      "grid_auto_rows": null,
      "grid_column": null,
      "grid_gap": null,
      "grid_row": null,
      "grid_template_areas": null,
      "grid_template_columns": null,
      "grid_template_rows": null,
      "height": null,
      "justify_content": null,
      "justify_items": null,
      "left": null,
      "margin": null,
      "max_height": null,
      "max_width": null,
      "min_height": null,
      "min_width": null,
      "object_fit": null,
      "object_position": null,
      "order": null,
      "overflow": null,
      "overflow_x": null,
      "overflow_y": null,
      "padding": null,
      "right": null,
      "top": null,
      "visibility": null,
      "width": null
     }
    },
    "dd6e017bc0184a00b5621f060be3a208": {
     "model_module": "@jupyter-widgets/controls",
     "model_module_version": "1.5.0",
     "model_name": "DescriptionStyleModel",
     "state": {
      "_model_module": "@jupyter-widgets/controls",
      "_model_module_version": "1.5.0",
      "_model_name": "DescriptionStyleModel",
      "_view_count": null,
      "_view_module": "@jupyter-widgets/base",
      "_view_module_version": "1.2.0",
      "_view_name": "StyleView",
      "description_width": ""
     }
    },
    "f6a1cc8f35d74fa1ace4736cfba557bf": {
     "model_module": "@jupyter-widgets/controls",
     "model_module_version": "1.5.0",
     "model_name": "ProgressStyleModel",
     "state": {
      "_model_module": "@jupyter-widgets/controls",
      "_model_module_version": "1.5.0",
      "_model_name": "ProgressStyleModel",
      "_view_count": null,
      "_view_module": "@jupyter-widgets/base",
      "_view_module_version": "1.2.0",
      "_view_name": "StyleView",
      "bar_color": null,
      "description_width": ""
     }
    }
   }
  }
 },
 "nbformat": 4,
 "nbformat_minor": 4
}
